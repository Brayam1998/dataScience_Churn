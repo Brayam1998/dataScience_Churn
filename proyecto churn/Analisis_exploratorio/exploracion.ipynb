{
 "cells": [
  {
   "cell_type": "code",
   "execution_count": null,
   "metadata": {},
   "outputs": [],
   "source": [
    "Index(['City', 'Tenure Months', 'Payment Method', 'Monthly Charges',\n",
    "       'Total Charges', 'Churn Value', 'Churn Score', 'CLTV', 'Churn Reason',\n",
    "       'Contract_Month-to-month', 'Contract_One year', 'Contract_Two year',\n",
    "       'Senior Citizen_No', 'Senior Citizen_Yes', 'Gender_Female',\n",
    "       'Gender_Male', 'Partner_No', 'Partner_Yes', 'Dependents_No',\n",
    "       'Dependents_Yes', 'Phone Service_No', 'Phone Service_Yes',\n",
    "       'Multiple Lines_No', 'Multiple Lines_No phone service',\n",
    "       'Multiple Lines_Yes', 'Online Security_No',\n",
    "       'Online Security_No internet service', 'Online Security_Yes',\n",
    "       'Online Backup_No', 'Online Backup_No internet service',\n",
    "       'Online Backup_Yes', 'Device Protection_No',\n",
    "       'Device Protection_No internet service', 'Device Protection_Yes',\n",
    "       'Tech Support_No', 'Tech Support_No internet service',\n",
    "       'Tech Support_Yes', 'Streaming TV_No',\n",
    "       'Streaming TV_No internet service', 'Streaming TV_Yes',\n",
    "       'Contract_Month-to-month', 'Contract_One year', 'Contract_Two year',\n",
    "       'Paperless Billing_No', 'Paperless Billing_Yes', 'Internet Service_DSL',\n",
    "       'Internet Service_Fiber optic', 'Internet Service_No',\n",
    "       'Streaming Movies_No', 'Streaming Movies_No internet service',\n",
    "       'Streaming Movies_Yes'],\n",
    "      dtype='object')"
   ]
  }
 ],
 "metadata": {
  "kernelspec": {
   "display_name": "analisis_churn",
   "language": "python",
   "name": "python3"
  },
  "language_info": {
   "name": "python",
   "version": "3.9.15 | packaged by conda-forge | (main, Nov 22 2022, 08:41:22) [MSC v.1929 64 bit (AMD64)]"
  },
  "orig_nbformat": 4,
  "vscode": {
   "interpreter": {
    "hash": "94c9ed87a6a7550ed83cea8e0ec154a897c44c0ec4bf99cd9bf34920c19c5a0a"
   }
  }
 },
 "nbformat": 4,
 "nbformat_minor": 2
}
