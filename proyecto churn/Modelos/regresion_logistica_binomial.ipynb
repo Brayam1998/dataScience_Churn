{
 "cells": [
  {
   "cell_type": "code",
   "execution_count": 89,
   "metadata": {},
   "outputs": [],
   "source": [
    "import pandas as pd\n",
    "import matplotlib.pyplot as plt\n",
    "import sklearn\n",
    "#Prepocesamiento y normalizacion de datos\n",
    "from sklearn.preprocessing import StandardScaler\n",
    "# divicion de los datos en train test\n",
    "from sklearn.model_selection import train_test_split\n",
    "# Analisis de componentes principales\n",
    "from sklearn.decomposition import PCA\n",
    "from sklearn.decomposition import IncrementalPCA\n",
    "from sklearn.decomposition import KernelPCA\n",
    "# EStimadores\n",
    "from sklearn.ensemble import GradientBoostingClassifier\n",
    "from sklearn.ensemble import BaggingClassifier\n",
    "#Modelos Logisticos\n",
    "from sklearn.neighbors import KNeighborsClassifier\n",
    "from sklearn.linear_model import LogisticRegression\n",
    "from sklearn.tree import DecisionTreeClassifier\n",
    "from sklearn.ensemble import RandomForestClassifier\n",
    "from sklearn.svm import LinearSVC\n",
    "from sklearn.svm import SVC\n",
    "from sklearn.linear_model import SGDClassifier\n",
    "# Medicion de efectividad de modelo\n",
    "from sklearn.metrics import accuracy_score"
   ]
  },
  {
   "cell_type": "code",
   "execution_count": 90,
   "metadata": {},
   "outputs": [],
   "source": [
    "import warnings\n",
    "warnings.filterwarnings(\"ignore\")"
   ]
  },
  {
   "attachments": {},
   "cell_type": "markdown",
   "metadata": {},
   "source": [
    "# Seleccion de Variables"
   ]
  },
  {
   "cell_type": "code",
   "execution_count": 91,
   "metadata": {},
   "outputs": [],
   "source": [
    "dataset = pd.read_csv(\"dataML.csv\")\n",
    "dataset = dataset.drop(columns = \"Unnamed: 0\" ) "
   ]
  },
  {
   "attachments": {},
   "cell_type": "markdown",
   "metadata": {},
   "source": [
    "Divicion Columnas"
   ]
  },
  {
   "cell_type": "code",
   "execution_count": 92,
   "metadata": {},
   "outputs": [],
   "source": [
    "dataFeatures = dataset.drop(columns=\"Churn Value\")\n",
    "dataTarget = dataset[\"Churn Value\"]"
   ]
  },
  {
   "attachments": {},
   "cell_type": "markdown",
   "metadata": {},
   "source": [
    "# Escalamiento de datos: "
   ]
  },
  {
   "cell_type": "code",
   "execution_count": 93,
   "metadata": {},
   "outputs": [
    {
     "data": {
      "text/html": [
       "<div>\n",
       "<style scoped>\n",
       "    .dataframe tbody tr th:only-of-type {\n",
       "        vertical-align: middle;\n",
       "    }\n",
       "\n",
       "    .dataframe tbody tr th {\n",
       "        vertical-align: top;\n",
       "    }\n",
       "\n",
       "    .dataframe thead th {\n",
       "        text-align: right;\n",
       "    }\n",
       "</style>\n",
       "<table border=\"1\" class=\"dataframe\">\n",
       "  <thead>\n",
       "    <tr style=\"text-align: right;\">\n",
       "      <th></th>\n",
       "      <th>Tenure Months</th>\n",
       "      <th>Monthly Charges</th>\n",
       "      <th>Total Charges</th>\n",
       "      <th>Churn Score</th>\n",
       "      <th>CLTV</th>\n",
       "      <th>Senior Citizen_Yes</th>\n",
       "      <th>Gender_Male</th>\n",
       "      <th>Partner_Yes</th>\n",
       "      <th>Dependents_Yes</th>\n",
       "      <th>Phone Service_Yes</th>\n",
       "      <th>...</th>\n",
       "      <th>Churn Reason_Limited range of services</th>\n",
       "      <th>Churn Reason_Long distance charges</th>\n",
       "      <th>Churn Reason_Moved</th>\n",
       "      <th>Churn Reason_Network reliability</th>\n",
       "      <th>Churn Reason_Poor expertise of online support</th>\n",
       "      <th>Churn Reason_Poor expertise of phone support</th>\n",
       "      <th>Churn Reason_Price too high</th>\n",
       "      <th>Churn Reason_Product dissatisfaction</th>\n",
       "      <th>Churn Reason_Service dissatisfaction</th>\n",
       "      <th>Churn Reason_cliente_activo</th>\n",
       "    </tr>\n",
       "  </thead>\n",
       "  <tbody>\n",
       "    <tr>\n",
       "      <th>0</th>\n",
       "      <td>-1.239504</td>\n",
       "      <td>-0.363923</td>\n",
       "      <td>-0.959649</td>\n",
       "      <td>1.267300</td>\n",
       "      <td>-0.983181</td>\n",
       "      <td>-0.440327</td>\n",
       "      <td>0.990658</td>\n",
       "      <td>-0.965608</td>\n",
       "      <td>-0.547115</td>\n",
       "      <td>0.327189</td>\n",
       "      <td>...</td>\n",
       "      <td>-0.079351</td>\n",
       "      <td>-0.079351</td>\n",
       "      <td>-0.087145</td>\n",
       "      <td>-0.121922</td>\n",
       "      <td>-0.05205</td>\n",
       "      <td>-0.053406</td>\n",
       "      <td>-0.118883</td>\n",
       "      <td>-0.12132</td>\n",
       "      <td>-0.11322</td>\n",
       "      <td>-1.662059</td>\n",
       "    </tr>\n",
       "    <tr>\n",
       "      <th>1</th>\n",
       "      <td>-1.239504</td>\n",
       "      <td>0.196178</td>\n",
       "      <td>-0.940457</td>\n",
       "      <td>0.384802</td>\n",
       "      <td>-1.438215</td>\n",
       "      <td>-0.440327</td>\n",
       "      <td>-1.009430</td>\n",
       "      <td>-0.965608</td>\n",
       "      <td>1.827769</td>\n",
       "      <td>0.327189</td>\n",
       "      <td>...</td>\n",
       "      <td>-0.079351</td>\n",
       "      <td>-0.079351</td>\n",
       "      <td>11.475158</td>\n",
       "      <td>-0.121922</td>\n",
       "      <td>-0.05205</td>\n",
       "      <td>-0.053406</td>\n",
       "      <td>-0.118883</td>\n",
       "      <td>-0.12132</td>\n",
       "      <td>-0.11322</td>\n",
       "      <td>-1.662059</td>\n",
       "    </tr>\n",
       "  </tbody>\n",
       "</table>\n",
       "<p>2 rows × 52 columns</p>\n",
       "</div>"
      ],
      "text/plain": [
       "   Tenure Months  Monthly Charges  Total Charges  Churn Score      CLTV  \\\n",
       "0      -1.239504        -0.363923      -0.959649     1.267300 -0.983181   \n",
       "1      -1.239504         0.196178      -0.940457     0.384802 -1.438215   \n",
       "\n",
       "   Senior Citizen_Yes  Gender_Male  Partner_Yes  Dependents_Yes  \\\n",
       "0           -0.440327     0.990658    -0.965608       -0.547115   \n",
       "1           -0.440327    -1.009430    -0.965608        1.827769   \n",
       "\n",
       "   Phone Service_Yes  ...  Churn Reason_Limited range of services  \\\n",
       "0           0.327189  ...                               -0.079351   \n",
       "1           0.327189  ...                               -0.079351   \n",
       "\n",
       "   Churn Reason_Long distance charges  Churn Reason_Moved  \\\n",
       "0                           -0.079351           -0.087145   \n",
       "1                           -0.079351           11.475158   \n",
       "\n",
       "   Churn Reason_Network reliability  \\\n",
       "0                         -0.121922   \n",
       "1                         -0.121922   \n",
       "\n",
       "   Churn Reason_Poor expertise of online support  \\\n",
       "0                                       -0.05205   \n",
       "1                                       -0.05205   \n",
       "\n",
       "   Churn Reason_Poor expertise of phone support  Churn Reason_Price too high  \\\n",
       "0                                     -0.053406                    -0.118883   \n",
       "1                                     -0.053406                    -0.118883   \n",
       "\n",
       "   Churn Reason_Product dissatisfaction  Churn Reason_Service dissatisfaction  \\\n",
       "0                              -0.12132                              -0.11322   \n",
       "1                              -0.12132                              -0.11322   \n",
       "\n",
       "   Churn Reason_cliente_activo  \n",
       "0                    -1.662059  \n",
       "1                    -1.662059  \n",
       "\n",
       "[2 rows x 52 columns]"
      ]
     },
     "execution_count": 93,
     "metadata": {},
     "output_type": "execute_result"
    }
   ],
   "source": [
    "scaler = StandardScaler()\n",
    "dataScaled = scaler.fit_transform(dataFeatures)\n",
    "dataScaled=  pd.DataFrame(dataScaled, columns= dataFeatures.columns)\n",
    "dataScaled.head(2)"
   ]
  },
  {
   "attachments": {},
   "cell_type": "markdown",
   "metadata": {},
   "source": [
    "Division datos test y entranamiento"
   ]
  },
  {
   "cell_type": "code",
   "execution_count": 94,
   "metadata": {},
   "outputs": [],
   "source": [
    "X_train , X_test , y_train , y_test = train_test_split(dataFeatures , dataTarget , test_size= 20, random_state= 42)"
   ]
  },
  {
   "attachments": {},
   "cell_type": "markdown",
   "metadata": {},
   "source": [
    "# Analisis de Componentes Principales"
   ]
  },
  {
   "attachments": {},
   "cell_type": "markdown",
   "metadata": {},
   "source": [
    "PCA"
   ]
  },
  {
   "cell_type": "code",
   "execution_count": 95,
   "metadata": {},
   "outputs": [
    {
     "data": {
      "text/plain": [
       "[<matplotlib.lines.Line2D at 0x250b5672760>]"
      ]
     },
     "execution_count": 95,
     "metadata": {},
     "output_type": "execute_result"
    },
    {
     "data": {
      "image/png": "[encoded data removed]",
      "text/plain": [
       "<Figure size 640x480 with 1 Axes>"
      ]
     },
     "metadata": {},
     "output_type": "display_data"
    }
   ],
   "source": [
    "pca = PCA(n_components=3 ).fit(X_train)\n",
    "plt.plot(range(len(pca.explained_variance_)) ,pca.explained_variance_ratio_)"
   ]
  },
  {
   "cell_type": "code",
   "execution_count": 96,
   "metadata": {},
   "outputs": [
    {
     "name": "stdout",
     "output_type": "stream",
     "text": [
      "SCORE PCA:  0.95\n"
     ]
    }
   ],
   "source": [
    "Xpca_train = pca.transform(X_train)\n",
    "Xpca_test =  pca.transform(X_test)\n",
    "\n",
    "logistic =  LogisticRegression(\n",
    "    solver = 'lbfgs').fit(\n",
    "        Xpca_train, y_train)\n",
    "print(\"SCORE PCA: \", logistic.score(Xpca_test, y_test))"
   ]
  },
  {
   "attachments": {},
   "cell_type": "markdown",
   "metadata": {},
   "source": [
    "IPCA"
   ]
  },
  {
   "cell_type": "code",
   "execution_count": 97,
   "metadata": {},
   "outputs": [
    {
     "data": {
      "text/plain": [
       "[<matplotlib.lines.Line2D at 0x250b070a430>]"
      ]
     },
     "execution_count": 97,
     "metadata": {},
     "output_type": "execute_result"
    },
    {
     "data": {
      "image/png": "[encoded data removed]",
      "text/plain": [
       "<Figure size 640x480 with 1 Axes>"
      ]
     },
     "metadata": {},
     "output_type": "display_data"
    }
   ],
   "source": [
    "ipca = IncrementalPCA( n_components=3 , batch_size= 10).fit(X_train)\n",
    "plt.plot(range(len(ipca.explained_variance_)),ipca.explained_variance_ratio_)"
   ]
  },
  {
   "cell_type": "code",
   "execution_count": 98,
   "metadata": {},
   "outputs": [
    {
     "name": "stdout",
     "output_type": "stream",
     "text": [
      "SCORE IPCA:  0.95\n"
     ]
    }
   ],
   "source": [
    "Xipca_train = ipca.transform(X_train)\n",
    "Xipca_test =  ipca.transform(X_test)\n",
    "\n",
    "logistic =  LogisticRegression(\n",
    "    solver = 'lbfgs').fit(\n",
    "        Xipca_train, y_train)\n",
    "        \n",
    "print(\"SCORE IPCA: \", logistic.score(Xipca_test, y_test))"
   ]
  },
  {
   "attachments": {},
   "cell_type": "markdown",
   "metadata": {},
   "source": [
    "Kernel PCA"
   ]
  },
  {
   "cell_type": "code",
   "execution_count": 99,
   "metadata": {},
   "outputs": [
    {
     "name": "stdout",
     "output_type": "stream",
     "text": [
      "SCORE KernelPCA:  0.65\n"
     ]
    }
   ],
   "source": [
    "kpca = KernelPCA(n_components=5 , kernel='poly').fit(X_train)\n",
    "logistic =  LogisticRegression(solver = 'lbfgs')\n",
    "kpca_train = kpca.transform(X_train)\n",
    "kpca_test =  kpca.transform(X_test)\n",
    "logistic.fit(kpca_train, y_train)\n",
    "print(\"SCORE KernelPCA: \", logistic.score(kpca_test, y_test))"
   ]
  },
  {
   "attachments": {},
   "cell_type": "markdown",
   "metadata": {},
   "source": [
    "Notamos que tanto pca como ipca tienen buen score, dado que la variable que intentamos predicir tiene comportamiento lineal con otras. por el contrario el kernel para datos no lineales no es optimo para este modelo."
   ]
  },
  {
   "attachments": {},
   "cell_type": "markdown",
   "metadata": {},
   "source": [
    "Usaremos Ipca dado que el set de datos es pequeño y tienen un buen desempeño."
   ]
  },
  {
   "attachments": {},
   "cell_type": "markdown",
   "metadata": {},
   "source": [
    "# Ensambladores :"
   ]
  },
  {
   "attachments": {},
   "cell_type": "markdown",
   "metadata": {},
   "source": [
    "Baggin"
   ]
  },
  {
   "cell_type": "code",
   "execution_count": 100,
   "metadata": {},
   "outputs": [],
   "source": [
    "modelos = (\n",
    "LogisticRegression(solver = \"lbfgs\", max_iter = 1000), \n",
    "DecisionTreeClassifier(),\n",
    "KNeighborsClassifier(),\n",
    "RandomForestClassifier(),\n",
    "LinearSVC(),\n",
    "SVC(),\n",
    "SGDClassifier())"
   ]
  },
  {
   "cell_type": "code",
   "execution_count": 101,
   "metadata": {},
   "outputs": [
    {
     "name": "stdout",
     "output_type": "stream",
     "text": [
      "\n",
      "        Clasificador: \" LogisticRegression(max_iter=1000) \n",
      "        N_estamaciones: \" 15\n",
      "        Presición_Predicción : 0.95\n",
      "        ------------------------------------------------ \n",
      "\n",
      "        Clasificador: \" DecisionTreeClassifier() \n",
      "        N_estamaciones: \" 15\n",
      "        Presición_Predicción : 1.0\n",
      "        ------------------------------------------------ \n",
      "\n",
      "        Clasificador: \" KNeighborsClassifier() \n",
      "        N_estamaciones: \" 15\n",
      "        Presición_Predicción : 0.95\n",
      "        ------------------------------------------------ \n",
      "\n",
      "        Clasificador: \" RandomForestClassifier() \n",
      "        N_estamaciones: \" 15\n",
      "        Presición_Predicción : 1.0\n",
      "        ------------------------------------------------ \n",
      "\n",
      "        Clasificador: \" LinearSVC() \n",
      "        N_estamaciones: \" 15\n",
      "        Presición_Predicción : 0.9\n",
      "        ------------------------------------------------ \n",
      "\n",
      "        Clasificador: \" SVC() \n",
      "        N_estamaciones: \" 15\n",
      "        Presición_Predicción : 0.85\n",
      "        ------------------------------------------------ \n",
      "\n",
      "        Clasificador: \" SGDClassifier() \n",
      "        N_estamaciones: \" 15\n",
      "        Presición_Predicción : 0.85\n",
      "        ------------------------------------------------ \n"
     ]
    }
   ],
   "source": [
    "def estimadores_baggin(clasificadores):\n",
    "    for clasificador in clasificadores:\n",
    "        modelo = BaggingClassifier(\n",
    "            base_estimator= clasificador , n_estimators= 15).fit(\n",
    "            Xipca_train,y_train)\n",
    "        modelo_predict = modelo.predict(Xipca_test)\n",
    "        print(f\"\"\"\n",
    "        Clasificador: \" {clasificador} \n",
    "        N_estamaciones: \" {modelo.n_estimators}\n",
    "        Presición_Predicción : {accuracy_score(modelo_predict , y_test)}\n",
    "        ------------------------------------------------ \"\"\")\n",
    "\n",
    "estimadores_baggin(modelos)"
   ]
  },
  {
   "attachments": {},
   "cell_type": "markdown",
   "metadata": {},
   "source": [
    "Boostin"
   ]
  },
  {
   "cell_type": "code",
   "execution_count": null,
   "metadata": {},
   "outputs": [],
   "source": []
  },
  {
   "cell_type": "code",
   "execution_count": null,
   "metadata": {},
   "outputs": [],
   "source": []
  },
  {
   "cell_type": "code",
   "execution_count": null,
   "metadata": {},
   "outputs": [],
   "source": []
  },
  {
   "attachments": {},
   "cell_type": "markdown",
   "metadata": {},
   "source": [
    "# Estimacion Parametrica "
   ]
  },
  {
   "cell_type": "code",
   "execution_count": null,
   "metadata": {},
   "outputs": [],
   "source": []
  },
  {
   "cell_type": "code",
   "execution_count": null,
   "metadata": {},
   "outputs": [],
   "source": []
  },
  {
   "cell_type": "code",
   "execution_count": null,
   "metadata": {},
   "outputs": [],
   "source": []
  },
  {
   "attachments": {},
   "cell_type": "markdown",
   "metadata": {},
   "source": [
    "# Score Final:"
   ]
  },
  {
   "cell_type": "code",
   "execution_count": null,
   "metadata": {},
   "outputs": [],
   "source": []
  },
  {
   "cell_type": "code",
   "execution_count": null,
   "metadata": {},
   "outputs": [],
   "source": []
  }
 ],
 "metadata": {
  "kernelspec": {
   "display_name": "analisis_churn",
   "language": "python",
   "name": "python3"
  },
  "language_info": {
   "codemirror_mode": {
    "name": "ipython",
    "version": 3
   },
   "file_extension": ".py",
   "mimetype": "text/x-python",
   "name": "python",
   "nbconvert_exporter": "python",
   "pygments_lexer": "ipython3",
   "version": "3.9.15"
  },
  "orig_nbformat": 4,
  "vscode": {
   "interpreter": {
    "hash": "94c9ed87a6a7550ed83cea8e0ec154a897c44c0ec4bf99cd9bf34920c19c5a0a"
   }
  }
 },
 "nbformat": 4,
 "nbformat_minor": 2
}
