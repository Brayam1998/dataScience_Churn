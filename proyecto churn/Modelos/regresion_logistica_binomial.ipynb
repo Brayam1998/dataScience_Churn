{
 "cells": [
  {
   "cell_type": "code",
   "execution_count": 427,
   "metadata": {},
   "outputs": [],
   "source": [
    "import pandas as pd\n",
    "import matplotlib.pyplot as plt\n",
    "import sklearn\n",
    "import seaborn as sns\n",
    "#Prepocesamiento y normalizacion de datos\n",
    "from sklearn.preprocessing import StandardScaler\n",
    "# divicion de los datos en train test\n",
    "from sklearn.model_selection import train_test_split\n",
    "from sklearn.utils import resample\n",
    "from imblearn.under_sampling import RandomUnderSampler\n",
    "# Analisis de componentes principales\n",
    "from sklearn.decomposition import IncrementalPCA\n",
    "# EStimadores\n",
    "from sklearn.ensemble import GradientBoostingClassifier\n",
    "from sklearn.ensemble import BaggingClassifier\n",
    "#Modelos Logisticos\n",
    "from sklearn.neighbors import KNeighborsClassifier\n",
    "from sklearn.linear_model import LogisticRegression\n",
    "from sklearn.tree import DecisionTreeClassifier\n",
    "from sklearn.ensemble import RandomForestClassifier\n",
    "from sklearn.svm import LinearSVC\n",
    "from sklearn.svm import SVC\n",
    "from sklearn.linear_model import SGDClassifier\n",
    "# Medicion de efectividad de modelo\n",
    "from sklearn.metrics import accuracy_score\n",
    "from sklearn.metrics import confusion_matrix\n",
    "from sklearn.metrics import ConfusionMatrixDisplay\n",
    "#Optimizacion Parametrica\n",
    "from sklearn.model_selection import RandomizedSearchCV\n",
    "import joblib \n",
    "\n",
    "import warnings\n",
    "warnings.filterwarnings(\"ignore\")"
   ]
  },
  {
   "attachments": {},
   "cell_type": "markdown",
   "metadata": {},
   "source": [
    "# Seleccion de Variables"
   ]
  },
  {
   "cell_type": "code",
   "execution_count": 428,
   "metadata": {},
   "outputs": [],
   "source": [
    "vars =['Churn Reason_Attitude of support person', 'Unnamed: 0',\n",
    "       'Churn Reason_Competitor had better devices',\n",
    "       'Churn Reason_Competitor made better offer',\n",
    "       'Churn Reason_Competitor offered higher download speeds',\n",
    "       'Churn Reason_Competitor offered more data', 'Churn Reason_Deceased',\n",
    "       'Churn Reason_Extra data charges',\n",
    "       'Churn Reason_Lack of affordable download/upload speed',\n",
    "       'Churn Reason_Lack of self-service on Website',\n",
    "       'Churn Reason_Limited range of services',\n",
    "       'Churn Reason_Long distance charges', 'Churn Reason_Moved',\n",
    "       'Churn Reason_Network reliability',\n",
    "       'Churn Reason_Poor expertise of online support',\n",
    "       'Churn Reason_Poor expertise of phone support',\n",
    "       'Churn Reason_Price too high', 'Churn Reason_Product dissatisfaction',\n",
    "       'Churn Reason_Service dissatisfaction', 'Churn Reason_cliente_activo', \n",
    "\n",
    "       \"Churn Reason_Don't know\" , \"Unnamed: 0\", \"Gender_Male\", \"Senior Citizen_Yes\", \"Contract_Two year\", \"Payment Method_Credit card (automatic)\",\n",
    "       \"Partner_Yes\" , \"Phone Service_Yes\",\"Multiple Lines_No phone service\", \"Online Security_No internet service\",\"Internet Service_Fiber optic\"\n",
    "       \n",
    "       ]"
   ]
  },
  {
   "cell_type": "code",
   "execution_count": 429,
   "metadata": {},
   "outputs": [],
   "source": [
    "data = pd.read_csv(\"dataML.csv\")\n",
    "dataL = data.drop(columns = vars ) \n",
    "dataset = dataL.copy(deep = True)\n",
    "\n",
    "dataset = dataset.sample(frac=1)\n",
    "\n"
   ]
  },
  {
   "cell_type": "code",
   "execution_count": null,
   "metadata": {},
   "outputs": [],
   "source": [
    "dataset.shape"
   ]
  },
  {
   "cell_type": "code",
   "execution_count": 430,
   "metadata": {},
   "outputs": [],
   "source": [
    "dataFeatures = dataset.drop(columns= \"Churn Value\"  )\n",
    "dataTarget = dataset[\"Churn Value\"]\n",
    "\n",
    "\n",
    "undersample = RandomUnderSampler(random_state=42)\n",
    "\n",
    "# le pasamos los datos ala funcion para que los nivele \n",
    "X_over , y_over = undersample.fit_resample(dataFeatures , dataTarget )"
   ]
  },
  {
   "attachments": {},
   "cell_type": "markdown",
   "metadata": {},
   "source": [
    "# Escalamiento de datos: "
   ]
  },
  {
   "cell_type": "code",
   "execution_count": 431,
   "metadata": {},
   "outputs": [
    {
     "data": {
      "text/html": [
       "<div>\n",
       "<style scoped>\n",
       "    .dataframe tbody tr th:only-of-type {\n",
       "        vertical-align: middle;\n",
       "    }\n",
       "\n",
       "    .dataframe tbody tr th {\n",
       "        vertical-align: top;\n",
       "    }\n",
       "\n",
       "    .dataframe thead th {\n",
       "        text-align: right;\n",
       "    }\n",
       "</style>\n",
       "<table border=\"1\" class=\"dataframe\">\n",
       "  <thead>\n",
       "    <tr style=\"text-align: right;\">\n",
       "      <th></th>\n",
       "      <th>Tenure Months</th>\n",
       "      <th>Monthly Charges</th>\n",
       "      <th>Total Charges</th>\n",
       "      <th>Churn Score</th>\n",
       "      <th>CLTV</th>\n",
       "      <th>Dependents_Yes</th>\n",
       "      <th>Multiple Lines_Yes</th>\n",
       "      <th>Online Security_Yes</th>\n",
       "      <th>Online Backup_No internet service</th>\n",
       "      <th>Online Backup_Yes</th>\n",
       "      <th>...</th>\n",
       "      <th>Tech Support_Yes</th>\n",
       "      <th>Streaming TV_No internet service</th>\n",
       "      <th>Streaming TV_Yes</th>\n",
       "      <th>Contract_One year</th>\n",
       "      <th>Paperless Billing_Yes</th>\n",
       "      <th>Internet Service_No</th>\n",
       "      <th>Streaming Movies_No internet service</th>\n",
       "      <th>Streaming Movies_Yes</th>\n",
       "      <th>Payment Method_Electronic check</th>\n",
       "      <th>Payment Method_Mailed check</th>\n",
       "    </tr>\n",
       "  </thead>\n",
       "  <tbody>\n",
       "    <tr>\n",
       "      <th>0</th>\n",
       "      <td>-1.198760</td>\n",
       "      <td>-1.331220</td>\n",
       "      <td>-0.977826</td>\n",
       "      <td>0.477696</td>\n",
       "      <td>-0.759894</td>\n",
       "      <td>-0.547115</td>\n",
       "      <td>-0.854336</td>\n",
       "      <td>-0.633746</td>\n",
       "      <td>-0.525130</td>\n",
       "      <td>-0.725516</td>\n",
       "      <td>...</td>\n",
       "      <td>-0.639260</td>\n",
       "      <td>-0.525130</td>\n",
       "      <td>-0.790186</td>\n",
       "      <td>-0.514537</td>\n",
       "      <td>-1.206361</td>\n",
       "      <td>-0.525130</td>\n",
       "      <td>-0.525130</td>\n",
       "      <td>-0.796849</td>\n",
       "      <td>1.404764</td>\n",
       "      <td>-0.543604</td>\n",
       "    </tr>\n",
       "    <tr>\n",
       "      <th>1</th>\n",
       "      <td>-1.280248</td>\n",
       "      <td>0.492018</td>\n",
       "      <td>-0.972245</td>\n",
       "      <td>1.638878</td>\n",
       "      <td>-1.093980</td>\n",
       "      <td>-0.547115</td>\n",
       "      <td>-0.854336</td>\n",
       "      <td>-0.633746</td>\n",
       "      <td>-0.525130</td>\n",
       "      <td>-0.725516</td>\n",
       "      <td>...</td>\n",
       "      <td>-0.639260</td>\n",
       "      <td>-0.525130</td>\n",
       "      <td>-0.790186</td>\n",
       "      <td>-0.514537</td>\n",
       "      <td>0.828939</td>\n",
       "      <td>-0.525130</td>\n",
       "      <td>-0.525130</td>\n",
       "      <td>1.254943</td>\n",
       "      <td>1.404764</td>\n",
       "      <td>-0.543604</td>\n",
       "    </tr>\n",
       "    <tr>\n",
       "      <th>2</th>\n",
       "      <td>0.553230</td>\n",
       "      <td>1.178433</td>\n",
       "      <td>1.089975</td>\n",
       "      <td>0.013223</td>\n",
       "      <td>0.889392</td>\n",
       "      <td>-0.547115</td>\n",
       "      <td>1.170500</td>\n",
       "      <td>-0.633746</td>\n",
       "      <td>-0.525130</td>\n",
       "      <td>-0.725516</td>\n",
       "      <td>...</td>\n",
       "      <td>1.564308</td>\n",
       "      <td>-0.525130</td>\n",
       "      <td>1.265525</td>\n",
       "      <td>1.943495</td>\n",
       "      <td>-1.206361</td>\n",
       "      <td>-0.525130</td>\n",
       "      <td>-0.525130</td>\n",
       "      <td>1.254943</td>\n",
       "      <td>1.404764</td>\n",
       "      <td>-0.543604</td>\n",
       "    </tr>\n",
       "    <tr>\n",
       "      <th>3</th>\n",
       "      <td>-1.239504</td>\n",
       "      <td>-1.342854</td>\n",
       "      <td>-0.991238</td>\n",
       "      <td>1.499536</td>\n",
       "      <td>-1.494037</td>\n",
       "      <td>1.827769</td>\n",
       "      <td>-0.854336</td>\n",
       "      <td>-0.633746</td>\n",
       "      <td>-0.525130</td>\n",
       "      <td>-0.725516</td>\n",
       "      <td>...</td>\n",
       "      <td>-0.639260</td>\n",
       "      <td>-0.525130</td>\n",
       "      <td>-0.790186</td>\n",
       "      <td>-0.514537</td>\n",
       "      <td>0.828939</td>\n",
       "      <td>-0.525130</td>\n",
       "      <td>-0.525130</td>\n",
       "      <td>-0.796849</td>\n",
       "      <td>-0.711863</td>\n",
       "      <td>1.839576</td>\n",
       "    </tr>\n",
       "    <tr>\n",
       "      <th>4</th>\n",
       "      <td>1.123646</td>\n",
       "      <td>1.028851</td>\n",
       "      <td>1.526332</td>\n",
       "      <td>1.360194</td>\n",
       "      <td>-0.230431</td>\n",
       "      <td>-0.547115</td>\n",
       "      <td>1.170500</td>\n",
       "      <td>-0.633746</td>\n",
       "      <td>-0.525130</td>\n",
       "      <td>1.378330</td>\n",
       "      <td>...</td>\n",
       "      <td>-0.639260</td>\n",
       "      <td>-0.525130</td>\n",
       "      <td>1.265525</td>\n",
       "      <td>-0.514537</td>\n",
       "      <td>0.828939</td>\n",
       "      <td>-0.525130</td>\n",
       "      <td>-0.525130</td>\n",
       "      <td>-0.796849</td>\n",
       "      <td>1.404764</td>\n",
       "      <td>-0.543604</td>\n",
       "    </tr>\n",
       "    <tr>\n",
       "      <th>...</th>\n",
       "      <td>...</td>\n",
       "      <td>...</td>\n",
       "      <td>...</td>\n",
       "      <td>...</td>\n",
       "      <td>...</td>\n",
       "      <td>...</td>\n",
       "      <td>...</td>\n",
       "      <td>...</td>\n",
       "      <td>...</td>\n",
       "      <td>...</td>\n",
       "      <td>...</td>\n",
       "      <td>...</td>\n",
       "      <td>...</td>\n",
       "      <td>...</td>\n",
       "      <td>...</td>\n",
       "      <td>...</td>\n",
       "      <td>...</td>\n",
       "      <td>...</td>\n",
       "      <td>...</td>\n",
       "      <td>...</td>\n",
       "      <td>...</td>\n",
       "    </tr>\n",
       "    <tr>\n",
       "      <th>7027</th>\n",
       "      <td>0.960670</td>\n",
       "      <td>0.801154</td>\n",
       "      <td>1.184456</td>\n",
       "      <td>0.617038</td>\n",
       "      <td>-0.195753</td>\n",
       "      <td>1.827769</td>\n",
       "      <td>-0.854336</td>\n",
       "      <td>-0.633746</td>\n",
       "      <td>-0.525130</td>\n",
       "      <td>-0.725516</td>\n",
       "      <td>...</td>\n",
       "      <td>-0.639260</td>\n",
       "      <td>-0.525130</td>\n",
       "      <td>1.265525</td>\n",
       "      <td>1.943495</td>\n",
       "      <td>-1.206361</td>\n",
       "      <td>-0.525130</td>\n",
       "      <td>-0.525130</td>\n",
       "      <td>1.254943</td>\n",
       "      <td>-0.711863</td>\n",
       "      <td>-0.543604</td>\n",
       "    </tr>\n",
       "    <tr>\n",
       "      <th>7028</th>\n",
       "      <td>1.245878</td>\n",
       "      <td>-1.505733</td>\n",
       "      <td>-0.471277</td>\n",
       "      <td>-0.683486</td>\n",
       "      <td>-0.026596</td>\n",
       "      <td>1.827769</td>\n",
       "      <td>-0.854336</td>\n",
       "      <td>-0.633746</td>\n",
       "      <td>1.904289</td>\n",
       "      <td>-0.725516</td>\n",
       "      <td>...</td>\n",
       "      <td>-0.639260</td>\n",
       "      <td>1.904289</td>\n",
       "      <td>-0.790186</td>\n",
       "      <td>-0.514537</td>\n",
       "      <td>-1.206361</td>\n",
       "      <td>1.904289</td>\n",
       "      <td>1.904289</td>\n",
       "      <td>-0.796849</td>\n",
       "      <td>-0.711863</td>\n",
       "      <td>-0.543604</td>\n",
       "    </tr>\n",
       "    <tr>\n",
       "      <th>7029</th>\n",
       "      <td>-1.076528</td>\n",
       "      <td>-1.485788</td>\n",
       "      <td>-0.963090</td>\n",
       "      <td>-0.776380</td>\n",
       "      <td>1.245468</td>\n",
       "      <td>1.827769</td>\n",
       "      <td>-0.854336</td>\n",
       "      <td>-0.633746</td>\n",
       "      <td>1.904289</td>\n",
       "      <td>-0.725516</td>\n",
       "      <td>...</td>\n",
       "      <td>-0.639260</td>\n",
       "      <td>1.904289</td>\n",
       "      <td>-0.790186</td>\n",
       "      <td>-0.514537</td>\n",
       "      <td>-1.206361</td>\n",
       "      <td>1.904289</td>\n",
       "      <td>1.904289</td>\n",
       "      <td>-0.796849</td>\n",
       "      <td>-0.711863</td>\n",
       "      <td>1.839576</td>\n",
       "    </tr>\n",
       "    <tr>\n",
       "      <th>7030</th>\n",
       "      <td>-1.198760</td>\n",
       "      <td>-1.519029</td>\n",
       "      <td>-0.983959</td>\n",
       "      <td>0.431249</td>\n",
       "      <td>0.425900</td>\n",
       "      <td>-0.547115</td>\n",
       "      <td>-0.854336</td>\n",
       "      <td>-0.633746</td>\n",
       "      <td>1.904289</td>\n",
       "      <td>-0.725516</td>\n",
       "      <td>...</td>\n",
       "      <td>-0.639260</td>\n",
       "      <td>1.904289</td>\n",
       "      <td>-0.790186</td>\n",
       "      <td>-0.514537</td>\n",
       "      <td>0.828939</td>\n",
       "      <td>1.904289</td>\n",
       "      <td>1.904289</td>\n",
       "      <td>-0.796849</td>\n",
       "      <td>-0.711863</td>\n",
       "      <td>1.839576</td>\n",
       "    </tr>\n",
       "    <tr>\n",
       "      <th>7031</th>\n",
       "      <td>-0.383881</td>\n",
       "      <td>-0.802697</td>\n",
       "      <td>-0.589383</td>\n",
       "      <td>-0.729933</td>\n",
       "      <td>0.700781</td>\n",
       "      <td>1.827769</td>\n",
       "      <td>-0.854336</td>\n",
       "      <td>1.577918</td>\n",
       "      <td>-0.525130</td>\n",
       "      <td>1.378330</td>\n",
       "      <td>...</td>\n",
       "      <td>1.564308</td>\n",
       "      <td>-0.525130</td>\n",
       "      <td>-0.790186</td>\n",
       "      <td>1.943495</td>\n",
       "      <td>-1.206361</td>\n",
       "      <td>-0.525130</td>\n",
       "      <td>-0.525130</td>\n",
       "      <td>-0.796849</td>\n",
       "      <td>-0.711863</td>\n",
       "      <td>-0.543604</td>\n",
       "    </tr>\n",
       "  </tbody>\n",
       "</table>\n",
       "<p>7032 rows × 23 columns</p>\n",
       "</div>"
      ],
      "text/plain": [
       "      Tenure Months  Monthly Charges  Total Charges  Churn Score      CLTV  \\\n",
       "0         -1.198760        -1.331220      -0.977826     0.477696 -0.759894   \n",
       "1         -1.280248         0.492018      -0.972245     1.638878 -1.093980   \n",
       "2          0.553230         1.178433       1.089975     0.013223  0.889392   \n",
       "3         -1.239504        -1.342854      -0.991238     1.499536 -1.494037   \n",
       "4          1.123646         1.028851       1.526332     1.360194 -0.230431   \n",
       "...             ...              ...            ...          ...       ...   \n",
       "7027       0.960670         0.801154       1.184456     0.617038 -0.195753   \n",
       "7028       1.245878        -1.505733      -0.471277    -0.683486 -0.026596   \n",
       "7029      -1.076528        -1.485788      -0.963090    -0.776380  1.245468   \n",
       "7030      -1.198760        -1.519029      -0.983959     0.431249  0.425900   \n",
       "7031      -0.383881        -0.802697      -0.589383    -0.729933  0.700781   \n",
       "\n",
       "      Dependents_Yes  Multiple Lines_Yes  Online Security_Yes  \\\n",
       "0          -0.547115           -0.854336            -0.633746   \n",
       "1          -0.547115           -0.854336            -0.633746   \n",
       "2          -0.547115            1.170500            -0.633746   \n",
       "3           1.827769           -0.854336            -0.633746   \n",
       "4          -0.547115            1.170500            -0.633746   \n",
       "...              ...                 ...                  ...   \n",
       "7027        1.827769           -0.854336            -0.633746   \n",
       "7028        1.827769           -0.854336            -0.633746   \n",
       "7029        1.827769           -0.854336            -0.633746   \n",
       "7030       -0.547115           -0.854336            -0.633746   \n",
       "7031        1.827769           -0.854336             1.577918   \n",
       "\n",
       "      Online Backup_No internet service  Online Backup_Yes  ...  \\\n",
       "0                             -0.525130          -0.725516  ...   \n",
       "1                             -0.525130          -0.725516  ...   \n",
       "2                             -0.525130          -0.725516  ...   \n",
       "3                             -0.525130          -0.725516  ...   \n",
       "4                             -0.525130           1.378330  ...   \n",
       "...                                 ...                ...  ...   \n",
       "7027                          -0.525130          -0.725516  ...   \n",
       "7028                           1.904289          -0.725516  ...   \n",
       "7029                           1.904289          -0.725516  ...   \n",
       "7030                           1.904289          -0.725516  ...   \n",
       "7031                          -0.525130           1.378330  ...   \n",
       "\n",
       "      Tech Support_Yes  Streaming TV_No internet service  Streaming TV_Yes  \\\n",
       "0            -0.639260                         -0.525130         -0.790186   \n",
       "1            -0.639260                         -0.525130         -0.790186   \n",
       "2             1.564308                         -0.525130          1.265525   \n",
       "3            -0.639260                         -0.525130         -0.790186   \n",
       "4            -0.639260                         -0.525130          1.265525   \n",
       "...                ...                               ...               ...   \n",
       "7027         -0.639260                         -0.525130          1.265525   \n",
       "7028         -0.639260                          1.904289         -0.790186   \n",
       "7029         -0.639260                          1.904289         -0.790186   \n",
       "7030         -0.639260                          1.904289         -0.790186   \n",
       "7031          1.564308                         -0.525130         -0.790186   \n",
       "\n",
       "      Contract_One year  Paperless Billing_Yes  Internet Service_No  \\\n",
       "0             -0.514537              -1.206361            -0.525130   \n",
       "1             -0.514537               0.828939            -0.525130   \n",
       "2              1.943495              -1.206361            -0.525130   \n",
       "3             -0.514537               0.828939            -0.525130   \n",
       "4             -0.514537               0.828939            -0.525130   \n",
       "...                 ...                    ...                  ...   \n",
       "7027           1.943495              -1.206361            -0.525130   \n",
       "7028          -0.514537              -1.206361             1.904289   \n",
       "7029          -0.514537              -1.206361             1.904289   \n",
       "7030          -0.514537               0.828939             1.904289   \n",
       "7031           1.943495              -1.206361            -0.525130   \n",
       "\n",
       "      Streaming Movies_No internet service  Streaming Movies_Yes  \\\n",
       "0                                -0.525130             -0.796849   \n",
       "1                                -0.525130              1.254943   \n",
       "2                                -0.525130              1.254943   \n",
       "3                                -0.525130             -0.796849   \n",
       "4                                -0.525130             -0.796849   \n",
       "...                                    ...                   ...   \n",
       "7027                             -0.525130              1.254943   \n",
       "7028                              1.904289             -0.796849   \n",
       "7029                              1.904289             -0.796849   \n",
       "7030                              1.904289             -0.796849   \n",
       "7031                             -0.525130             -0.796849   \n",
       "\n",
       "      Payment Method_Electronic check  Payment Method_Mailed check  \n",
       "0                            1.404764                    -0.543604  \n",
       "1                            1.404764                    -0.543604  \n",
       "2                            1.404764                    -0.543604  \n",
       "3                           -0.711863                     1.839576  \n",
       "4                            1.404764                    -0.543604  \n",
       "...                               ...                          ...  \n",
       "7027                        -0.711863                    -0.543604  \n",
       "7028                        -0.711863                    -0.543604  \n",
       "7029                        -0.711863                     1.839576  \n",
       "7030                        -0.711863                     1.839576  \n",
       "7031                        -0.711863                    -0.543604  \n",
       "\n",
       "[7032 rows x 23 columns]"
      ]
     },
     "execution_count": 431,
     "metadata": {},
     "output_type": "execute_result"
    }
   ],
   "source": [
    "scaler = StandardScaler()\n",
    "dataScaled = scaler.fit_transform(dataFeatures)\n",
    "\n",
    "dataScaled=  pd.DataFrame(dataScaled, columns= X_over.columns)\n",
    "dataScaled"
   ]
  },
  {
   "cell_type": "code",
   "execution_count": null,
   "metadata": {},
   "outputs": [],
   "source": [
    "#dataScaled.to_csv(\"dataScalada\")"
   ]
  },
  {
   "attachments": {},
   "cell_type": "markdown",
   "metadata": {},
   "source": [
    "Division datos test y entranamiento"
   ]
  },
  {
   "cell_type": "code",
   "execution_count": 432,
   "metadata": {},
   "outputs": [],
   "source": [
    "X_train , X_test , y_train , y_test = train_test_split(dataScaled , dataTarget , test_size= .3, random_state= 42 , stratify= dataTarget,shuffle=True)\n",
    "X_train_balanced, y_train_balanced = resample(X_train, y_train, n_samples=len(X_train), random_state=42, replace=True)"
   ]
  },
  {
   "attachments": {},
   "cell_type": "markdown",
   "metadata": {},
   "source": [
    "# Analisis de Componentes Principales"
   ]
  },
  {
   "attachments": {},
   "cell_type": "markdown",
   "metadata": {},
   "source": [
    "IPCA"
   ]
  },
  {
   "cell_type": "code",
   "execution_count": 433,
   "metadata": {},
   "outputs": [],
   "source": [
    "ipca = IncrementalPCA( n_components=5 , batch_size= 10).fit(X_train_balanced)\n",
    "\n",
    "Xipca_train = ipca.transform(X_train_balanced)\n",
    "Xipca_test =  ipca.transform(X_test)"
   ]
  },
  {
   "cell_type": "code",
   "execution_count": 434,
   "metadata": {},
   "outputs": [
    {
     "data": {
      "text/plain": [
       "[<matplotlib.lines.Line2D at 0x19841802790>]"
      ]
     },
     "execution_count": 434,
     "metadata": {},
     "output_type": "execute_result"
    },
    {
     "data": {
      "image/png": "[encoded data removed]",
      "text/plain": [
       "<Figure size 640x480 with 1 Axes>"
      ]
     },
     "metadata": {},
     "output_type": "display_data"
    }
   ],
   "source": [
    "plt.plot(range(len(ipca.explained_variance_)),ipca.explained_variance_ratio_)"
   ]
  },
  {
   "attachments": {},
   "cell_type": "markdown",
   "metadata": {},
   "source": [
    "Notamos que tanto pca como ipca tienen buen score, dado que la variable que intentamos predicir tiene comportamiento lineal con otras. por el contrario el kernel para datos no lineales no es optimo para este modelo."
   ]
  },
  {
   "attachments": {},
   "cell_type": "markdown",
   "metadata": {},
   "source": [
    "Usaremos Ipca dado que el set de datos es pequeño y tienen un buen desempeño."
   ]
  },
  {
   "cell_type": "code",
   "execution_count": 435,
   "metadata": {},
   "outputs": [
    {
     "name": "stdout",
     "output_type": "stream",
     "text": [
      " Presición_Predicción : 0.8587677725118483 \n"
     ]
    },
    {
     "data": {
      "text/plain": [
       "<Figure size 1100x1100 with 0 Axes>"
      ]
     },
     "metadata": {},
     "output_type": "display_data"
    },
    {
     "data": {
      "image/png": "[encoded data removed]",
      "text/plain": [
       "<Figure size 640x480 with 2 Axes>"
      ]
     },
     "metadata": {},
     "output_type": "display_data"
    }
   ],
   "source": [
    "randomF_model= RandomForestClassifier(criterion='gini', max_depth=10, n_estimators=125).fit(Xipca_train, y_train_balanced)\n",
    "prediccionRandomForest = randomF_model.predict(Xipca_test)\n",
    "\n",
    "#Resultados\n",
    "fig = plt.figure(figsize=(11,11))\n",
    "print(f\"\"\" Presición_Predicción : {accuracy_score(prediccionRandomForest, y_test)} \"\"\")\n",
    "cm = confusion_matrix(y_test, prediccionRandomForest ,labels= randomF_model.classes_)\n",
    "disp = ConfusionMatrixDisplay(confusion_matrix = cm, display_labels=randomF_model.classes_)\n",
    "disp.plot(cmap='gray')\n",
    "plt.show()"
   ]
  },
  {
   "cell_type": "code",
   "execution_count": 436,
   "metadata": {},
   "outputs": [
    {
     "data": {
      "text/plain": [
       "['random5.pkl']"
      ]
     },
     "execution_count": 436,
     "metadata": {},
     "output_type": "execute_result"
    }
   ],
   "source": [
    "joblib.dump(randomF_model, 'random5.pkl')"
   ]
  },
  {
   "attachments": {},
   "cell_type": "markdown",
   "metadata": {},
   "source": [
    "# Ensambladores :"
   ]
  },
  {
   "attachments": {},
   "cell_type": "markdown",
   "metadata": {},
   "source": [
    "Baggin"
   ]
  },
  {
   "cell_type": "code",
   "execution_count": null,
   "metadata": {},
   "outputs": [],
   "source": [
    "modelos = (\n",
    "LogisticRegression(solver = \"lbfgs\", max_iter = 1000), \n",
    "DecisionTreeClassifier(),\n",
    "KNeighborsClassifier(),\n",
    "RandomForestClassifier(criterion='gini', max_depth=10, n_estimators=123),\n",
    "LinearSVC(),\n",
    "SVC(),\n",
    "SGDClassifier())\n",
    "\n",
    "def estimadores_bagginIPCA(clasificadores):\n",
    "    for clasificador in clasificadores:\n",
    "        modelo = BaggingClassifier(\n",
    "            base_estimator= clasificador , n_estimators= 30).fit(\n",
    "            Xipca_train,y_train_balanced)\n",
    "        modelo_predict = modelo.predict(Xipca_test)\n",
    "        print(f\"\"\"\n",
    "        Clasificador: \" {clasificador} \n",
    "        N_estamaciones: \" {modelo.n_estimators}\n",
    "        Presición_Predicción : {accuracy_score(modelo_predict , y_test)}\n",
    "        ------------------------------------------------ \"\"\")\n",
    "\n",
    "estimadores_bagginIPCA(modelos)"
   ]
  },
  {
   "attachments": {},
   "cell_type": "markdown",
   "metadata": {},
   "source": [
    "Boostin"
   ]
  },
  {
   "cell_type": "code",
   "execution_count": null,
   "metadata": {},
   "outputs": [],
   "source": [
    "boost = GradientBoostingClassifier(n_estimators=120  , learning_rate=.1 , subsample=1).fit(Xipca_train, y_train_balanced)\n",
    "boost_pred = boost.predict(Xipca_test)\n",
    "print(\"=\"*64)\n",
    "print(accuracy_score(boost_pred, y_test))"
   ]
  },
  {
   "attachments": {},
   "cell_type": "markdown",
   "metadata": {},
   "source": [
    "# Optimización Parametrica"
   ]
  },
  {
   "cell_type": "code",
   "execution_count": null,
   "metadata": {},
   "outputs": [],
   "source": [
    "clasificador = RandomForestClassifier()\n",
    "parametros = {\n",
    "    'n_estimators': range(90, 130),\n",
    "    'criterion': [ \"gini\" , \"entropy\", \"log_loss\"],\n",
    "    'max_depth': range(6 , 11)}\n",
    "\n",
    "estimacionParametrica = RandomizedSearchCV(\n",
    "    clasificador, parametros, n_iter=15, cv=6).fit(Xipca_train, y_train_balanced)\n",
    "\n",
    "print(estimacionParametrica.best_estimator_)\n",
    "print(estimacionParametrica.best_params_)"
   ]
  },
  {
   "cell_type": "code",
   "execution_count": null,
   "metadata": {},
   "outputs": [],
   "source": [
    "randomF_model= RandomForestClassifier(criterion='gini', max_depth=10, n_estimators=125).fit(Xipca_train, y_train_balanced)\n",
    "prediccionRandomForest = randomF_model.predict(Xipca_test)\n",
    "\n",
    "#Resultados\n",
    "fig = plt.figure(figsize=(11,11))\n",
    "print(f\"\"\" Presición_Predicción : {accuracy_score(prediccionRandomForest, y_test)} \"\"\")\n",
    "cm = confusion_matrix(y_test, prediccionRandomForest ,labels= randomF_model.classes_)\n",
    "disp = ConfusionMatrixDisplay(confusion_matrix = cm, display_labels=randomF_model.classes_)\n",
    "disp.plot(cmap='gray')\n",
    "plt.show()"
   ]
  },
  {
   "attachments": {},
   "cell_type": "markdown",
   "metadata": {},
   "source": [
    "# Score Final: __90 %__"
   ]
  },
  {
   "attachments": {},
   "cell_type": "markdown",
   "metadata": {},
   "source": [
    "# Exportacion de Modelo"
   ]
  },
  {
   "cell_type": "code",
   "execution_count": null,
   "metadata": {},
   "outputs": [],
   "source": [
    "#joblib.dump(randomF_model, 'randomForest_model_NS_4.pkl')"
   ]
  },
  {
   "attachments": {},
   "cell_type": "markdown",
   "metadata": {},
   "source": [
    "Importación de modelo"
   ]
  },
  {
   "cell_type": "code",
   "execution_count": null,
   "metadata": {},
   "outputs": [],
   "source": [
    "model = joblib.load('randomForest_model_5.pkl')\n",
    "pred = model.predict(Xipca_test)"
   ]
  },
  {
   "cell_type": "code",
   "execution_count": null,
   "metadata": {},
   "outputs": [],
   "source": [
    "print(f\"\"\" Presición_Predicción : {accuracy_score(pred, y_test)} \"\"\")\n",
    "fig = plt.figure(figsize=(11,11))\n",
    "cm = confusion_matrix(y_test, pred ,labels= model.classes_)\n",
    "disp = ConfusionMatrixDisplay(confusion_matrix = cm, display_labels=model.classes_).plot(cmap = \"gray\")\n",
    "plt.show()"
   ]
  }
 ],
 "metadata": {
  "kernelspec": {
   "display_name": "analisis_churn",
   "language": "python",
   "name": "python3"
  },
  "language_info": {
   "codemirror_mode": {
    "name": "ipython",
    "version": 3
   },
   "file_extension": ".py",
   "mimetype": "text/x-python",
   "name": "python",
   "nbconvert_exporter": "python",
   "pygments_lexer": "ipython3",
   "version": "3.9.15"
  },
  "orig_nbformat": 4,
  "vscode": {
   "interpreter": {
    "hash": "94c9ed87a6a7550ed83cea8e0ec154a897c44c0ec4bf99cd9bf34920c19c5a0a"
   }
  }
 },
 "nbformat": 4,
 "nbformat_minor": 2
}
