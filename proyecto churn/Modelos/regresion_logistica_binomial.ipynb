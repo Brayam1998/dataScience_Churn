{
 "cells": [
  {
   "cell_type": "code",
   "execution_count": 256,
   "metadata": {},
   "outputs": [],
   "source": [
    "import pandas as pd\n",
    "import matplotlib.pyplot as plt\n",
    "import sklearn\n",
    "import seaborn as sns\n",
    "#Prepocesamiento y normalizacion de datos\n",
    "from sklearn.preprocessing import StandardScaler\n",
    "# divicion de los datos en train test\n",
    "from sklearn.model_selection import train_test_split\n",
    "from sklearn.utils import resample\n",
    "from imblearn.under_sampling import RandomUnderSampler\n",
    "# Analisis de componentes principales\n",
    "from sklearn.decomposition import IncrementalPCA\n",
    "# EStimadores\n",
    "from sklearn.ensemble import GradientBoostingClassifier\n",
    "from sklearn.ensemble import BaggingClassifier\n",
    "#Modelos Logisticos\n",
    "from sklearn.neighbors import KNeighborsClassifier\n",
    "from sklearn.linear_model import LogisticRegression\n",
    "from sklearn.tree import DecisionTreeClassifier\n",
    "from sklearn.ensemble import RandomForestClassifier\n",
    "from sklearn.svm import LinearSVC\n",
    "from sklearn.svm import SVC\n",
    "from sklearn.linear_model import SGDClassifier\n",
    "# Medicion de efectividad de modelo\n",
    "from sklearn.metrics import accuracy_score\n",
    "from sklearn.metrics import confusion_matrix\n",
    "from sklearn.metrics import ConfusionMatrixDisplay\n",
    "#Optimizacion Parametrica\n",
    "from sklearn.model_selection import RandomizedSearchCV\n",
    "import joblib \n",
    "\n",
    "import warnings\n",
    "warnings.filterwarnings(\"ignore\")"
   ]
  },
  {
   "attachments": {},
   "cell_type": "markdown",
   "metadata": {},
   "source": [
    "# Seleccion de Variables"
   ]
  },
  {
   "cell_type": "code",
   "execution_count": 257,
   "metadata": {},
   "outputs": [],
   "source": [
    "data = pd.read_csv(\"dataML.csv\")\n",
    "data = data.drop(columns = \"Unnamed: 0\" ) \n",
    "dataset = data.copy(deep = True)\n",
    "\n",
    "dataset = dataset.sample(frac=1)\n",
    "\n",
    "dataFeatures = dataset.drop(columns=\"Churn Value\")\n",
    "dataTarget = dataset[\"Churn Value\"]\n",
    "\n",
    "\n",
    "undersample = RandomUnderSampler(random_state=42)\n",
    "\n",
    "# le pasamos los datos ala funcion para que los nivele \n",
    "X_over , y_over = undersample.fit_resample(dataFeatures , dataTarget )"
   ]
  },
  {
   "attachments": {},
   "cell_type": "markdown",
   "metadata": {},
   "source": [
    "# Escalamiento de datos: "
   ]
  },
  {
   "cell_type": "code",
   "execution_count": 258,
   "metadata": {},
   "outputs": [
    {
     "data": {
      "text/html": [
       "<div>\n",
       "<style scoped>\n",
       "    .dataframe tbody tr th:only-of-type {\n",
       "        vertical-align: middle;\n",
       "    }\n",
       "\n",
       "    .dataframe tbody tr th {\n",
       "        vertical-align: top;\n",
       "    }\n",
       "\n",
       "    .dataframe thead th {\n",
       "        text-align: right;\n",
       "    }\n",
       "</style>\n",
       "<table border=\"1\" class=\"dataframe\">\n",
       "  <thead>\n",
       "    <tr style=\"text-align: right;\">\n",
       "      <th></th>\n",
       "      <th>Tenure Months</th>\n",
       "      <th>Monthly Charges</th>\n",
       "      <th>Total Charges</th>\n",
       "      <th>Churn Score</th>\n",
       "      <th>CLTV</th>\n",
       "      <th>Senior Citizen_Yes</th>\n",
       "      <th>Gender_Male</th>\n",
       "      <th>Partner_Yes</th>\n",
       "      <th>Dependents_Yes</th>\n",
       "      <th>Phone Service_Yes</th>\n",
       "      <th>...</th>\n",
       "      <th>Churn Reason_Limited range of services</th>\n",
       "      <th>Churn Reason_Long distance charges</th>\n",
       "      <th>Churn Reason_Moved</th>\n",
       "      <th>Churn Reason_Network reliability</th>\n",
       "      <th>Churn Reason_Poor expertise of online support</th>\n",
       "      <th>Churn Reason_Poor expertise of phone support</th>\n",
       "      <th>Churn Reason_Price too high</th>\n",
       "      <th>Churn Reason_Product dissatisfaction</th>\n",
       "      <th>Churn Reason_Service dissatisfaction</th>\n",
       "      <th>Churn Reason_cliente_activo</th>\n",
       "    </tr>\n",
       "  </thead>\n",
       "  <tbody>\n",
       "    <tr>\n",
       "      <th>0</th>\n",
       "      <td>-1.030656</td>\n",
       "      <td>-1.693294</td>\n",
       "      <td>-0.914132</td>\n",
       "      <td>-1.027075</td>\n",
       "      <td>-0.278303</td>\n",
       "      <td>-0.493051</td>\n",
       "      <td>0.987769</td>\n",
       "      <td>1.128593</td>\n",
       "      <td>-0.448075</td>\n",
       "      <td>0.324443</td>\n",
       "      <td>...</td>\n",
       "      <td>-0.109138</td>\n",
       "      <td>-0.109138</td>\n",
       "      <td>-0.119928</td>\n",
       "      <td>-0.168332</td>\n",
       "      <td>-0.071477</td>\n",
       "      <td>-0.073343</td>\n",
       "      <td>-0.164083</td>\n",
       "      <td>-0.16749</td>\n",
       "      <td>-0.156174</td>\n",
       "      <td>1.0</td>\n",
       "    </tr>\n",
       "    <tr>\n",
       "      <th>1</th>\n",
       "      <td>-0.697981</td>\n",
       "      <td>-0.257901</td>\n",
       "      <td>-0.622551</td>\n",
       "      <td>-0.381513</td>\n",
       "      <td>-1.334266</td>\n",
       "      <td>-0.493051</td>\n",
       "      <td>0.987769</td>\n",
       "      <td>-0.886059</td>\n",
       "      <td>-0.448075</td>\n",
       "      <td>0.324443</td>\n",
       "      <td>...</td>\n",
       "      <td>-0.109138</td>\n",
       "      <td>-0.109138</td>\n",
       "      <td>-0.119928</td>\n",
       "      <td>-0.168332</td>\n",
       "      <td>-0.071477</td>\n",
       "      <td>-0.073343</td>\n",
       "      <td>-0.164083</td>\n",
       "      <td>-0.16749</td>\n",
       "      <td>-0.156174</td>\n",
       "      <td>1.0</td>\n",
       "    </tr>\n",
       "  </tbody>\n",
       "</table>\n",
       "<p>2 rows × 52 columns</p>\n",
       "</div>"
      ],
      "text/plain": [
       "   Tenure Months  Monthly Charges  Total Charges  Churn Score      CLTV  \\\n",
       "0      -1.030656        -1.693294      -0.914132    -1.027075 -0.278303   \n",
       "1      -0.697981        -0.257901      -0.622551    -0.381513 -1.334266   \n",
       "\n",
       "   Senior Citizen_Yes  Gender_Male  Partner_Yes  Dependents_Yes  \\\n",
       "0           -0.493051     0.987769     1.128593       -0.448075   \n",
       "1           -0.493051     0.987769    -0.886059       -0.448075   \n",
       "\n",
       "   Phone Service_Yes  ...  Churn Reason_Limited range of services  \\\n",
       "0           0.324443  ...                               -0.109138   \n",
       "1           0.324443  ...                               -0.109138   \n",
       "\n",
       "   Churn Reason_Long distance charges  Churn Reason_Moved  \\\n",
       "0                           -0.109138           -0.119928   \n",
       "1                           -0.109138           -0.119928   \n",
       "\n",
       "   Churn Reason_Network reliability  \\\n",
       "0                         -0.168332   \n",
       "1                         -0.168332   \n",
       "\n",
       "   Churn Reason_Poor expertise of online support  \\\n",
       "0                                      -0.071477   \n",
       "1                                      -0.071477   \n",
       "\n",
       "   Churn Reason_Poor expertise of phone support  Churn Reason_Price too high  \\\n",
       "0                                     -0.073343                    -0.164083   \n",
       "1                                     -0.073343                    -0.164083   \n",
       "\n",
       "   Churn Reason_Product dissatisfaction  Churn Reason_Service dissatisfaction  \\\n",
       "0                              -0.16749                             -0.156174   \n",
       "1                              -0.16749                             -0.156174   \n",
       "\n",
       "   Churn Reason_cliente_activo  \n",
       "0                          1.0  \n",
       "1                          1.0  \n",
       "\n",
       "[2 rows x 52 columns]"
      ]
     },
     "execution_count": 258,
     "metadata": {},
     "output_type": "execute_result"
    }
   ],
   "source": [
    "scaler = StandardScaler()\n",
    "dataScaled = scaler.fit_transform(X_over)\n",
    "dataScaled=  pd.DataFrame(dataScaled, columns= X_over.columns)\n",
    "dataScaled.head(2)"
   ]
  },
  {
   "cell_type": "code",
   "execution_count": 259,
   "metadata": {},
   "outputs": [],
   "source": [
    "#dataScaled.to_csv(\"dataScalada\")"
   ]
  },
  {
   "attachments": {},
   "cell_type": "markdown",
   "metadata": {},
   "source": [
    "Division datos test y entranamiento"
   ]
  },
  {
   "cell_type": "code",
   "execution_count": 260,
   "metadata": {},
   "outputs": [],
   "source": [
    "X_train , X_test , y_train , y_test = train_test_split(X_over , y_over , test_size= .2, random_state= 42 , stratify= y_over,shuffle=True)\n",
    "X_train_balanced, y_train_balanced = resample(X_train, y_train, n_samples=len(X_train), random_state=42, replace=True)"
   ]
  },
  {
   "attachments": {},
   "cell_type": "markdown",
   "metadata": {},
   "source": [
    "# Analisis de Componentes Principales"
   ]
  },
  {
   "attachments": {},
   "cell_type": "markdown",
   "metadata": {},
   "source": [
    "IPCA"
   ]
  },
  {
   "cell_type": "code",
   "execution_count": 261,
   "metadata": {},
   "outputs": [],
   "source": [
    "ipca = IncrementalPCA( n_components=4 , batch_size= 10).fit(X_train_balanced)\n",
    "\n",
    "Xipca_train = ipca.transform(X_train_balanced)\n",
    "Xipca_test =  ipca.transform(X_test)"
   ]
  },
  {
   "cell_type": "code",
   "execution_count": 262,
   "metadata": {},
   "outputs": [
    {
     "data": {
      "text/plain": [
       "[<matplotlib.lines.Line2D at 0x1983db918e0>]"
      ]
     },
     "execution_count": 262,
     "metadata": {},
     "output_type": "execute_result"
    },
    {
     "data": {
      "image/png": "[encoded data removed]",
      "text/plain": [
       "<Figure size 640x480 with 1 Axes>"
      ]
     },
     "metadata": {},
     "output_type": "display_data"
    }
   ],
   "source": [
    "plt.plot(range(len(ipca.explained_variance_)),ipca.explained_variance_ratio_)"
   ]
  },
  {
   "attachments": {},
   "cell_type": "markdown",
   "metadata": {},
   "source": [
    "Notamos que tanto pca como ipca tienen buen score, dado que la variable que intentamos predicir tiene comportamiento lineal con otras. por el contrario el kernel para datos no lineales no es optimo para este modelo."
   ]
  },
  {
   "attachments": {},
   "cell_type": "markdown",
   "metadata": {},
   "source": [
    "Usaremos Ipca dado que el set de datos es pequeño y tienen un buen desempeño."
   ]
  },
  {
   "attachments": {},
   "cell_type": "markdown",
   "metadata": {},
   "source": [
    "# Ensambladores :"
   ]
  },
  {
   "attachments": {},
   "cell_type": "markdown",
   "metadata": {},
   "source": [
    "Baggin"
   ]
  },
  {
   "cell_type": "code",
   "execution_count": 263,
   "metadata": {},
   "outputs": [
    {
     "name": "stdout",
     "output_type": "stream",
     "text": [
      "\n",
      "        Clasificador: \" LogisticRegression(max_iter=1000) \n",
      "        N_estamaciones: \" 30\n",
      "        Presición_Predicción : 0.893048128342246\n",
      "        ------------------------------------------------ \n",
      "\n",
      "        Clasificador: \" DecisionTreeClassifier() \n",
      "        N_estamaciones: \" 30\n",
      "        Presición_Predicción : 0.8863636363636364\n",
      "        ------------------------------------------------ \n",
      "\n",
      "        Clasificador: \" KNeighborsClassifier() \n",
      "        N_estamaciones: \" 30\n",
      "        Presición_Predicción : 0.6443850267379679\n",
      "        ------------------------------------------------ \n",
      "\n",
      "        Clasificador: \" RandomForestClassifier(max_depth=10, n_estimators=123) \n",
      "        N_estamaciones: \" 30\n",
      "        Presición_Predicción : 0.893048128342246\n",
      "        ------------------------------------------------ \n",
      "\n",
      "        Clasificador: \" LinearSVC() \n",
      "        N_estamaciones: \" 30\n",
      "        Presición_Predicción : 0.8542780748663101\n",
      "        ------------------------------------------------ \n",
      "\n",
      "        Clasificador: \" SVC() \n",
      "        N_estamaciones: \" 30\n",
      "        Presición_Predicción : 0.6457219251336899\n",
      "        ------------------------------------------------ \n",
      "\n",
      "        Clasificador: \" SGDClassifier() \n",
      "        N_estamaciones: \" 30\n",
      "        Presición_Predicción : 0.8917112299465241\n",
      "        ------------------------------------------------ \n"
     ]
    }
   ],
   "source": [
    "modelos = (\n",
    "LogisticRegression(solver = \"lbfgs\", max_iter = 1000), \n",
    "DecisionTreeClassifier(),\n",
    "KNeighborsClassifier(),\n",
    "RandomForestClassifier(criterion='gini', max_depth=10, n_estimators=123),\n",
    "LinearSVC(),\n",
    "SVC(),\n",
    "SGDClassifier())\n",
    "\n",
    "def estimadores_bagginIPCA(clasificadores):\n",
    "    for clasificador in clasificadores:\n",
    "        modelo = BaggingClassifier(\n",
    "            base_estimator= clasificador , n_estimators= 30).fit(\n",
    "            Xipca_train,y_train_balanced)\n",
    "        modelo_predict = modelo.predict(Xipca_test)\n",
    "        print(f\"\"\"\n",
    "        Clasificador: \" {clasificador} \n",
    "        N_estamaciones: \" {modelo.n_estimators}\n",
    "        Presición_Predicción : {accuracy_score(modelo_predict , y_test)}\n",
    "        ------------------------------------------------ \"\"\")\n",
    "\n",
    "estimadores_bagginIPCA(modelos)"
   ]
  },
  {
   "attachments": {},
   "cell_type": "markdown",
   "metadata": {},
   "source": [
    "Boostin"
   ]
  },
  {
   "cell_type": "code",
   "execution_count": 264,
   "metadata": {},
   "outputs": [
    {
     "name": "stdout",
     "output_type": "stream",
     "text": [
      "================================================================\n",
      "0.8957219251336899\n"
     ]
    }
   ],
   "source": [
    "boost = GradientBoostingClassifier(n_estimators=120  , learning_rate=.1 , subsample=1).fit(Xipca_train, y_train_balanced)\n",
    "boost_pred = boost.predict(Xipca_test)\n",
    "print(\"=\"*64)\n",
    "print(accuracy_score(boost_pred, y_test))"
   ]
  },
  {
   "attachments": {},
   "cell_type": "markdown",
   "metadata": {},
   "source": [
    "# Optimización Parametrica"
   ]
  },
  {
   "cell_type": "code",
   "execution_count": 265,
   "metadata": {},
   "outputs": [
    {
     "name": "stdout",
     "output_type": "stream",
     "text": [
      "RandomForestClassifier(criterion='entropy', max_depth=10, n_estimators=93)\n",
      "{'n_estimators': 93, 'max_depth': 10, 'criterion': 'entropy'}\n"
     ]
    }
   ],
   "source": [
    "clasificador = RandomForestClassifier()\n",
    "parametros = {\n",
    "    'n_estimators': range(90, 130),\n",
    "    'criterion': [ \"gini\" , \"entropy\", \"log_loss\"],\n",
    "    'max_depth': range(6 , 11)}\n",
    "\n",
    "estimacionParametrica = RandomizedSearchCV(\n",
    "    clasificador, parametros, n_iter=15, cv=6).fit(Xipca_train, y_train_balanced)\n",
    "\n",
    "print(estimacionParametrica.best_estimator_)\n",
    "print(estimacionParametrica.best_params_)"
   ]
  },
  {
   "cell_type": "code",
   "execution_count": 266,
   "metadata": {},
   "outputs": [
    {
     "name": "stdout",
     "output_type": "stream",
     "text": [
      " Presición_Predicción : 0.8957219251336899 \n"
     ]
    },
    {
     "data": {
      "text/plain": [
       "<Figure size 1100x1100 with 0 Axes>"
      ]
     },
     "metadata": {},
     "output_type": "display_data"
    },
    {
     "data": {
      "image/png": "[encoded data removed]",
      "text/plain": [
       "<Figure size 640x480 with 2 Axes>"
      ]
     },
     "metadata": {},
     "output_type": "display_data"
    }
   ],
   "source": [
    "randomF_model= RandomForestClassifier(criterion='gini', max_depth=10, n_estimators=107).fit(Xipca_train, y_train_balanced)\n",
    "prediccionRandomForest = randomF_model.predict(Xipca_test)\n",
    "\n",
    "#Resultados\n",
    "fig = plt.figure(figsize=(11,11))\n",
    "print(f\"\"\" Presición_Predicción : {accuracy_score(prediccionRandomForest, y_test)} \"\"\")\n",
    "cm = confusion_matrix(y_test, prediccionRandomForest ,labels= randomF_model.classes_)\n",
    "disp = ConfusionMatrixDisplay(confusion_matrix = cm, display_labels=randomF_model.classes_)\n",
    "disp.plot(cmap='gray')\n",
    "plt.show()"
   ]
  },
  {
   "attachments": {},
   "cell_type": "markdown",
   "metadata": {},
   "source": [
    "Score Final: __90 %__"
   ]
  },
  {
   "attachments": {},
   "cell_type": "markdown",
   "metadata": {},
   "source": [
    "# Exportacion de Modelo"
   ]
  },
  {
   "cell_type": "code",
   "execution_count": 267,
   "metadata": {},
   "outputs": [],
   "source": [
    "#joblib.dump(randomF_model, 'randomForest_model.pkl')"
   ]
  },
  {
   "attachments": {},
   "cell_type": "markdown",
   "metadata": {},
   "source": [
    "Importación de modelo"
   ]
  },
  {
   "cell_type": "code",
   "execution_count": 268,
   "metadata": {},
   "outputs": [],
   "source": [
    "model = joblib.load('randomForest_model.pkl')\n",
    "pred = model.predict(Xipca_test)"
   ]
  },
  {
   "cell_type": "code",
   "execution_count": 269,
   "metadata": {},
   "outputs": [
    {
     "name": "stdout",
     "output_type": "stream",
     "text": [
      " Presición_Predicción : 0.9077540106951871 \n"
     ]
    },
    {
     "data": {
      "text/plain": [
       "<Figure size 1100x1100 with 0 Axes>"
      ]
     },
     "metadata": {},
     "output_type": "display_data"
    },
    {
     "data": {
      "image/png": "[encoded data removed]",
      "text/plain": [
       "<Figure size 640x480 with 2 Axes>"
      ]
     },
     "metadata": {},
     "output_type": "display_data"
    }
   ],
   "source": [
    "print(f\"\"\" Presición_Predicción : {accuracy_score(pred, y_test)} \"\"\")\n",
    "fig = plt.figure(figsize=(11,11))\n",
    "cm = confusion_matrix(y_test, pred ,labels= model.classes_)\n",
    "disp = ConfusionMatrixDisplay(confusion_matrix = cm, display_labels=model.classes_).plot(cmap = \"gray\")\n",
    "plt.show()"
   ]
  },
  {
   "cell_type": "code",
   "execution_count": 270,
   "metadata": {},
   "outputs": [
    {
     "data": {
      "text/html": [
       "<div>\n",
       "<style scoped>\n",
       "    .dataframe tbody tr th:only-of-type {\n",
       "        vertical-align: middle;\n",
       "    }\n",
       "\n",
       "    .dataframe tbody tr th {\n",
       "        vertical-align: top;\n",
       "    }\n",
       "\n",
       "    .dataframe thead th {\n",
       "        text-align: right;\n",
       "    }\n",
       "</style>\n",
       "<table border=\"1\" class=\"dataframe\">\n",
       "  <thead>\n",
       "    <tr style=\"text-align: right;\">\n",
       "      <th></th>\n",
       "      <th>0</th>\n",
       "    </tr>\n",
       "  </thead>\n",
       "  <tbody>\n",
       "    <tr>\n",
       "      <th>0</th>\n",
       "      <td>1</td>\n",
       "    </tr>\n",
       "    <tr>\n",
       "      <th>1</th>\n",
       "      <td>1</td>\n",
       "    </tr>\n",
       "    <tr>\n",
       "      <th>2</th>\n",
       "      <td>0</td>\n",
       "    </tr>\n",
       "    <tr>\n",
       "      <th>3</th>\n",
       "      <td>0</td>\n",
       "    </tr>\n",
       "    <tr>\n",
       "      <th>4</th>\n",
       "      <td>1</td>\n",
       "    </tr>\n",
       "    <tr>\n",
       "      <th>...</th>\n",
       "      <td>...</td>\n",
       "    </tr>\n",
       "    <tr>\n",
       "      <th>743</th>\n",
       "      <td>0</td>\n",
       "    </tr>\n",
       "    <tr>\n",
       "      <th>744</th>\n",
       "      <td>0</td>\n",
       "    </tr>\n",
       "    <tr>\n",
       "      <th>745</th>\n",
       "      <td>0</td>\n",
       "    </tr>\n",
       "    <tr>\n",
       "      <th>746</th>\n",
       "      <td>1</td>\n",
       "    </tr>\n",
       "    <tr>\n",
       "      <th>747</th>\n",
       "      <td>0</td>\n",
       "    </tr>\n",
       "  </tbody>\n",
       "</table>\n",
       "<p>748 rows × 1 columns</p>\n",
       "</div>"
      ],
      "text/plain": [
       "     0\n",
       "0    1\n",
       "1    1\n",
       "2    0\n",
       "3    0\n",
       "4    1\n",
       "..  ..\n",
       "743  0\n",
       "744  0\n",
       "745  0\n",
       "746  1\n",
       "747  0\n",
       "\n",
       "[748 rows x 1 columns]"
      ]
     },
     "execution_count": 270,
     "metadata": {},
     "output_type": "execute_result"
    }
   ],
   "source": [
    "predDF = pd.DataFrame( pred) \n",
    "predDF"
   ]
  }
 ],
 "metadata": {
  "kernelspec": {
   "display_name": "analisis_churn",
   "language": "python",
   "name": "python3"
  },
  "language_info": {
   "codemirror_mode": {
    "name": "ipython",
    "version": 3
   },
   "file_extension": ".py",
   "mimetype": "text/x-python",
   "name": "python",
   "nbconvert_exporter": "python",
   "pygments_lexer": "ipython3",
   "version": "3.9.15"
  },
  "orig_nbformat": 4,
  "vscode": {
   "interpreter": {
    "hash": "94c9ed87a6a7550ed83cea8e0ec154a897c44c0ec4bf99cd9bf34920c19c5a0a"
   }
  }
 },
 "nbformat": 4,
 "nbformat_minor": 2
}
