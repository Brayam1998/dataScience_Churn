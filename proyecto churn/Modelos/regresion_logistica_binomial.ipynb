{
 "cells": [
  {
   "cell_type": "code",
   "execution_count": 336,
   "metadata": {},
   "outputs": [],
   "source": [
    "import pandas as pd\n",
    "import matplotlib.pyplot as plt\n",
    "import sklearn\n",
    "#Prepocesamiento y normalizacion de datos\n",
    "from sklearn.preprocessing import StandardScaler\n",
    "# divicion de los datos en train test\n",
    "from sklearn.model_selection import train_test_split\n",
    "from sklearn.utils import resample\n",
    "# Analisis de componentes principales\n",
    "from sklearn.decomposition import PCA\n",
    "from sklearn.decomposition import IncrementalPCA\n",
    "from sklearn.decomposition import KernelPCA\n",
    "# EStimadores\n",
    "from sklearn.ensemble import GradientBoostingClassifier\n",
    "from sklearn.ensemble import BaggingClassifier\n",
    "#Modelos Logisticos\n",
    "from sklearn.neighbors import KNeighborsClassifier\n",
    "from sklearn.linear_model import LogisticRegression\n",
    "from sklearn.tree import DecisionTreeClassifier\n",
    "from sklearn.ensemble import RandomForestClassifier\n",
    "from sklearn.svm import LinearSVC\n",
    "from sklearn.svm import SVC\n",
    "from sklearn.linear_model import SGDClassifier\n",
    "# Medicion de efectividad de modelo\n",
    "from sklearn.metrics import accuracy_score\n",
    "from sklearn.metrics import confusion_matrix\n",
    "from sklearn.metrics import ConfusionMatrixDisplay\n",
    "#Optimizacion Parametrica\n",
    "from sklearn.model_selection import RandomizedSearchCV"
   ]
  },
  {
   "cell_type": "code",
   "execution_count": 337,
   "metadata": {},
   "outputs": [],
   "source": [
    "import warnings\n",
    "warnings.filterwarnings(\"ignore\")"
   ]
  },
  {
   "attachments": {},
   "cell_type": "markdown",
   "metadata": {},
   "source": [
    "# Seleccion de Variables"
   ]
  },
  {
   "cell_type": "code",
   "execution_count": 338,
   "metadata": {},
   "outputs": [],
   "source": [
    "dataset = pd.read_csv(\"dataML.csv\")\n",
    "dataset = dataset.drop(columns = \"Unnamed: 0\" ) \n",
    "dataFeatures = dataset.drop(columns=\"Churn Value\")\n",
    "dataTarget = dataset[\"Churn Value\"]"
   ]
  },
  {
   "attachments": {},
   "cell_type": "markdown",
   "metadata": {},
   "source": [
    "# Escalamiento de datos: "
   ]
  },
  {
   "cell_type": "code",
   "execution_count": 339,
   "metadata": {},
   "outputs": [
    {
     "data": {
      "text/html": [
       "<div>\n",
       "<style scoped>\n",
       "    .dataframe tbody tr th:only-of-type {\n",
       "        vertical-align: middle;\n",
       "    }\n",
       "\n",
       "    .dataframe tbody tr th {\n",
       "        vertical-align: top;\n",
       "    }\n",
       "\n",
       "    .dataframe thead th {\n",
       "        text-align: right;\n",
       "    }\n",
       "</style>\n",
       "<table border=\"1\" class=\"dataframe\">\n",
       "  <thead>\n",
       "    <tr style=\"text-align: right;\">\n",
       "      <th></th>\n",
       "      <th>Tenure Months</th>\n",
       "      <th>Monthly Charges</th>\n",
       "      <th>Total Charges</th>\n",
       "      <th>Churn Score</th>\n",
       "      <th>CLTV</th>\n",
       "      <th>Senior Citizen_Yes</th>\n",
       "      <th>Gender_Male</th>\n",
       "      <th>Partner_Yes</th>\n",
       "      <th>Dependents_Yes</th>\n",
       "      <th>Phone Service_Yes</th>\n",
       "      <th>...</th>\n",
       "      <th>Churn Reason_Limited range of services</th>\n",
       "      <th>Churn Reason_Long distance charges</th>\n",
       "      <th>Churn Reason_Moved</th>\n",
       "      <th>Churn Reason_Network reliability</th>\n",
       "      <th>Churn Reason_Poor expertise of online support</th>\n",
       "      <th>Churn Reason_Poor expertise of phone support</th>\n",
       "      <th>Churn Reason_Price too high</th>\n",
       "      <th>Churn Reason_Product dissatisfaction</th>\n",
       "      <th>Churn Reason_Service dissatisfaction</th>\n",
       "      <th>Churn Reason_cliente_activo</th>\n",
       "    </tr>\n",
       "  </thead>\n",
       "  <tbody>\n",
       "    <tr>\n",
       "      <th>0</th>\n",
       "      <td>-1.239504</td>\n",
       "      <td>-0.363923</td>\n",
       "      <td>-0.959649</td>\n",
       "      <td>1.267300</td>\n",
       "      <td>-0.983181</td>\n",
       "      <td>-0.440327</td>\n",
       "      <td>0.990658</td>\n",
       "      <td>-0.965608</td>\n",
       "      <td>-0.547115</td>\n",
       "      <td>0.327189</td>\n",
       "      <td>...</td>\n",
       "      <td>-0.079351</td>\n",
       "      <td>-0.079351</td>\n",
       "      <td>-0.087145</td>\n",
       "      <td>-0.121922</td>\n",
       "      <td>-0.05205</td>\n",
       "      <td>-0.053406</td>\n",
       "      <td>-0.118883</td>\n",
       "      <td>-0.12132</td>\n",
       "      <td>-0.11322</td>\n",
       "      <td>-1.662059</td>\n",
       "    </tr>\n",
       "    <tr>\n",
       "      <th>1</th>\n",
       "      <td>-1.239504</td>\n",
       "      <td>0.196178</td>\n",
       "      <td>-0.940457</td>\n",
       "      <td>0.384802</td>\n",
       "      <td>-1.438215</td>\n",
       "      <td>-0.440327</td>\n",
       "      <td>-1.009430</td>\n",
       "      <td>-0.965608</td>\n",
       "      <td>1.827769</td>\n",
       "      <td>0.327189</td>\n",
       "      <td>...</td>\n",
       "      <td>-0.079351</td>\n",
       "      <td>-0.079351</td>\n",
       "      <td>11.475158</td>\n",
       "      <td>-0.121922</td>\n",
       "      <td>-0.05205</td>\n",
       "      <td>-0.053406</td>\n",
       "      <td>-0.118883</td>\n",
       "      <td>-0.12132</td>\n",
       "      <td>-0.11322</td>\n",
       "      <td>-1.662059</td>\n",
       "    </tr>\n",
       "  </tbody>\n",
       "</table>\n",
       "<p>2 rows × 52 columns</p>\n",
       "</div>"
      ],
      "text/plain": [
       "   Tenure Months  Monthly Charges  Total Charges  Churn Score      CLTV  \\\n",
       "0      -1.239504        -0.363923      -0.959649     1.267300 -0.983181   \n",
       "1      -1.239504         0.196178      -0.940457     0.384802 -1.438215   \n",
       "\n",
       "   Senior Citizen_Yes  Gender_Male  Partner_Yes  Dependents_Yes  \\\n",
       "0           -0.440327     0.990658    -0.965608       -0.547115   \n",
       "1           -0.440327    -1.009430    -0.965608        1.827769   \n",
       "\n",
       "   Phone Service_Yes  ...  Churn Reason_Limited range of services  \\\n",
       "0           0.327189  ...                               -0.079351   \n",
       "1           0.327189  ...                               -0.079351   \n",
       "\n",
       "   Churn Reason_Long distance charges  Churn Reason_Moved  \\\n",
       "0                           -0.079351           -0.087145   \n",
       "1                           -0.079351           11.475158   \n",
       "\n",
       "   Churn Reason_Network reliability  \\\n",
       "0                         -0.121922   \n",
       "1                         -0.121922   \n",
       "\n",
       "   Churn Reason_Poor expertise of online support  \\\n",
       "0                                       -0.05205   \n",
       "1                                       -0.05205   \n",
       "\n",
       "   Churn Reason_Poor expertise of phone support  Churn Reason_Price too high  \\\n",
       "0                                     -0.053406                    -0.118883   \n",
       "1                                     -0.053406                    -0.118883   \n",
       "\n",
       "   Churn Reason_Product dissatisfaction  Churn Reason_Service dissatisfaction  \\\n",
       "0                              -0.12132                              -0.11322   \n",
       "1                              -0.12132                              -0.11322   \n",
       "\n",
       "   Churn Reason_cliente_activo  \n",
       "0                    -1.662059  \n",
       "1                    -1.662059  \n",
       "\n",
       "[2 rows x 52 columns]"
      ]
     },
     "execution_count": 339,
     "metadata": {},
     "output_type": "execute_result"
    }
   ],
   "source": [
    "scaler = StandardScaler()\n",
    "dataScaled = scaler.fit_transform(dataFeatures)\n",
    "dataScaled=  pd.DataFrame(dataScaled, columns= dataFeatures.columns)\n",
    "dataScaled.head(2)"
   ]
  },
  {
   "attachments": {},
   "cell_type": "markdown",
   "metadata": {},
   "source": [
    "Division datos test y entranamiento"
   ]
  },
  {
   "cell_type": "code",
   "execution_count": 340,
   "metadata": {},
   "outputs": [],
   "source": [
    "X_train , X_test , y_train , y_test = train_test_split(dataFeatures , dataTarget , test_size= .30, random_state= 42 , stratify= dataTarget,shuffle=True)"
   ]
  },
  {
   "cell_type": "code",
   "execution_count": 341,
   "metadata": {},
   "outputs": [],
   "source": [
    "X_train_balanced, y_train_balanced = resample(X_train, y_train, n_samples=len(X_train), random_state=42, replace=True)"
   ]
  },
  {
   "attachments": {},
   "cell_type": "markdown",
   "metadata": {},
   "source": [
    "# Analisis de Componentes Principales"
   ]
  },
  {
   "attachments": {},
   "cell_type": "markdown",
   "metadata": {},
   "source": [
    "IPCA"
   ]
  },
  {
   "cell_type": "code",
   "execution_count": 342,
   "metadata": {},
   "outputs": [
    {
     "data": {
      "image/png": "[encoded data removed]",
      "text/plain": [
       "<Figure size 640x480 with 1 Axes>"
      ]
     },
     "metadata": {},
     "output_type": "display_data"
    }
   ],
   "source": [
    "ipca = IncrementalPCA( n_components=3 , batch_size= 10).fit(X_train_balanced)\n",
    "plt.plot(range(len(ipca.explained_variance_)),ipca.explained_variance_ratio_)\n",
    "\n",
    "Xipca_train = ipca.transform(X_train_balanced)\n",
    "Xipca_test =  ipca.transform(X_test)\n"
   ]
  },
  {
   "cell_type": "code",
   "execution_count": 343,
   "metadata": {},
   "outputs": [
    {
     "name": "stdout",
     "output_type": "stream",
     "text": [
      "SCORE IPCA:  0.8516587677725118\n",
      "Exactitud del modelo: 0.85\n"
     ]
    }
   ],
   "source": [
    "\n",
    "logistic =  LogisticRegression(\n",
    "    solver = 'lbfgs').fit(\n",
    "        Xipca_train, y_train_balanced)\n",
    "predictions = logistic.predict(Xipca_test)\n",
    "        \n",
    "print(\"SCORE IPCA: \", logistic.score(Xipca_test, y_test))\n",
    "\n",
    "accuracy = accuracy_score(y_test, predictions)\n",
    "print(f'Exactitud del modelo: {accuracy:.2f}')\n",
    "\n"
   ]
  },
  {
   "attachments": {},
   "cell_type": "markdown",
   "metadata": {},
   "source": [
    "Notamos que tanto pca como ipca tienen buen score, dado que la variable que intentamos predicir tiene comportamiento lineal con otras. por el contrario el kernel para datos no lineales no es optimo para este modelo."
   ]
  },
  {
   "attachments": {},
   "cell_type": "markdown",
   "metadata": {},
   "source": [
    "Usaremos Ipca dado que el set de datos es pequeño y tienen un buen desempeño."
   ]
  },
  {
   "cell_type": "code",
   "execution_count": 344,
   "metadata": {},
   "outputs": [
    {
     "name": "stdout",
     "output_type": "stream",
     "text": [
      "RandomForestClassifier(max_depth=10, n_estimators=98)\n",
      "{'n_estimators': 98, 'max_depth': 10, 'criterion': 'gini'}\n"
     ]
    }
   ],
   "source": [
    "clasificador = RandomForestClassifier()\n",
    "\n",
    "parametros = {\n",
    "    'n_estimators': range(90, 130),\n",
    "    'criterion': [ \"gini\" , \"entropy\", \"log_loss\"],\n",
    "    'max_depth': range(6 , 11)\n",
    "}\n",
    "rand_est = RandomizedSearchCV(\n",
    "    clasificador, parametros, n_iter=20, cv=3).fit(Xipca_train, y_train_balanced)\n",
    "\n",
    "print(rand_est.best_estimator_)\n",
    "print(rand_est.best_params_)"
   ]
  },
  {
   "cell_type": "code",
   "execution_count": 362,
   "metadata": {},
   "outputs": [
    {
     "name": "stdout",
     "output_type": "stream",
     "text": [
      "\n",
      "Presición_Predicción : 0.861611374407583\n",
      "        ------------------------------------------------ \n",
      "[[1423  126]\n",
      " [ 166  395]]\n"
     ]
    }
   ],
   "source": [
    "estimator= RandomForestClassifier(criterion='gini', max_depth=10, n_estimators=98).fit(Xipca_train, y_train_balanced)\n",
    "prediccionBaggin = estimator.predict(Xipca_test)\n",
    "\n",
    "print(f\"\"\"\n",
    "Presición_Predicción : {accuracy_score(prediccionBaggin, y_test)}\n",
    "        ------------------------------------------------ \"\"\")\n",
    "cm = confusion_matrix(y_test, prediccionBaggin ,labels= estimator.classes_)\n",
    "print(cm)"
   ]
  },
  {
   "cell_type": "code",
   "execution_count": 359,
   "metadata": {},
   "outputs": [
    {
     "data": {
      "text/plain": [
       "<Figure size 1100x1100 with 0 Axes>"
      ]
     },
     "metadata": {},
     "output_type": "display_data"
    },
    {
     "data": {
      "image/png": "[encoded data removed]",
      "text/plain": [
       "<Figure size 640x480 with 2 Axes>"
      ]
     },
     "metadata": {},
     "output_type": "display_data"
    }
   ],
   "source": [
    "fig = plt.figure(figsize=(11,11))\n",
    "cm = confusion_matrix(y_test, prediccionBaggin ,labels= estimator.classes_)\n",
    "\n",
    "disp = ConfusionMatrixDisplay(confusion_matrix = cm, display_labels=estimator.classes_)\n",
    "disp.plot(cmap='gray')\n",
    "plt.show()"
   ]
  },
  {
   "attachments": {},
   "cell_type": "markdown",
   "metadata": {},
   "source": [
    "# Ensambladores :"
   ]
  },
  {
   "attachments": {},
   "cell_type": "markdown",
   "metadata": {},
   "source": [
    "Baggin"
   ]
  },
  {
   "cell_type": "code",
   "execution_count": 352,
   "metadata": {},
   "outputs": [],
   "source": [
    "modelos = (\n",
    "LogisticRegression(solver = \"lbfgs\", max_iter = 1000), \n",
    "DecisionTreeClassifier(),\n",
    "KNeighborsClassifier(),\n",
    "RandomForestClassifier(criterion='gini', max_depth=10, n_estimators=123),\n",
    "LinearSVC(),\n",
    "SVC(),\n",
    "SGDClassifier())"
   ]
  },
  {
   "cell_type": "code",
   "execution_count": 353,
   "metadata": {},
   "outputs": [
    {
     "name": "stdout",
     "output_type": "stream",
     "text": [
      "\n",
      "        Clasificador: \" LogisticRegression(max_iter=1000) \n",
      "        N_estamaciones: \" 30\n",
      "        Presición_Predicción : 0.7341232227488151\n",
      "        ------------------------------------------------ \n",
      "\n",
      "        Clasificador: \" DecisionTreeClassifier() \n",
      "        N_estamaciones: \" 30\n",
      "        Presición_Predicción : 0.6962085308056872\n",
      "        ------------------------------------------------ \n",
      "\n",
      "        Clasificador: \" KNeighborsClassifier() \n",
      "        N_estamaciones: \" 30\n",
      "        Presición_Predicción : 0.6895734597156398\n",
      "        ------------------------------------------------ \n",
      "\n",
      "        Clasificador: \" RandomForestClassifier(max_depth=10, n_estimators=123) \n",
      "        N_estamaciones: \" 30\n",
      "        Presición_Predicción : 0.7341232227488151\n",
      "        ------------------------------------------------ \n",
      "\n",
      "        Clasificador: \" LinearSVC() \n",
      "        N_estamaciones: \" 30\n",
      "        Presición_Predicción : 0.7336492890995261\n",
      "        ------------------------------------------------ \n",
      "\n",
      "        Clasificador: \" SVC() \n",
      "        N_estamaciones: \" 30\n",
      "        Presición_Predicción : 0.7341232227488151\n",
      "        ------------------------------------------------ \n",
      "\n",
      "        Clasificador: \" SGDClassifier() \n",
      "        N_estamaciones: \" 30\n",
      "        Presición_Predicción : 0.7071090047393365\n",
      "        ------------------------------------------------ \n"
     ]
    }
   ],
   "source": [
    "def estimadores_bagginIPCA(clasificadores):\n",
    "    for clasificador in clasificadores:\n",
    "        modelo = BaggingClassifier(\n",
    "            base_estimator= clasificador , n_estimators= 30).fit(\n",
    "            Xipca_train,y_train)\n",
    "        modelo_predict = modelo.predict(Xipca_test)\n",
    "        print(f\"\"\"\n",
    "        Clasificador: \" {clasificador} \n",
    "        N_estamaciones: \" {modelo.n_estimators}\n",
    "        Presición_Predicción : {accuracy_score(modelo_predict , y_test)}\n",
    "        ------------------------------------------------ \"\"\")\n",
    "\n",
    "estimadores_bagginIPCA(modelos)"
   ]
  },
  {
   "attachments": {},
   "cell_type": "markdown",
   "metadata": {},
   "source": [
    "__Prueba__"
   ]
  },
  {
   "attachments": {},
   "cell_type": "markdown",
   "metadata": {},
   "source": [
    "Boostin"
   ]
  },
  {
   "cell_type": "code",
   "execution_count": 349,
   "metadata": {},
   "outputs": [
    {
     "name": "stdout",
     "output_type": "stream",
     "text": [
      "================================================================\n",
      "0.8601895734597157\n"
     ]
    }
   ],
   "source": [
    "boost = GradientBoostingClassifier(n_estimators=120  , learning_rate=.1 , subsample=1).fit(Xipca_train, y_train_balanced)\n",
    "boost_pred = boost.predict(Xipca_test)\n",
    "print(\"=\"*64)\n",
    "print(accuracy_score(boost_pred, y_test))"
   ]
  },
  {
   "cell_type": "code",
   "execution_count": 350,
   "metadata": {},
   "outputs": [
    {
     "name": "stdout",
     "output_type": "stream",
     "text": [
      "RandomForestClassifier(max_depth=10, n_estimators=98)\n",
      "{'n_estimators': 98, 'max_depth': 10, 'criterion': 'gini'}\n"
     ]
    }
   ],
   "source": [
    "clasificador = RandomForestClassifier()\n",
    "\n",
    "parametros = {\n",
    "    'n_estimators': range(50, 200),\n",
    "    'criterion': [ \"gini\" , \"entropy\", \"log_loss\"],\n",
    "    'max_depth': range(2, 11)\n",
    "}\n",
    "rand_est = RandomizedSearchCV(\n",
    "    clasificador, parametros, n_iter=20, cv=3).fit(Xipca_train, y_train_balanced)\n",
    "\n",
    "print(rand_est.best_estimator_)\n",
    "print(rand_est.best_params_)"
   ]
  },
  {
   "cell_type": "code",
   "execution_count": 354,
   "metadata": {},
   "outputs": [
    {
     "name": "stdout",
     "output_type": "stream",
     "text": [
      "\n",
      "Presición_Predicción : 0.8644549763033176\n",
      "        ------------------------------------------------ \n",
      "[[1432  117]\n",
      " [ 169  392]]\n"
     ]
    }
   ],
   "source": [
    "estimator= RandomForestClassifier(criterion=  \"entropy\" , max_depth=9, n_estimators=109).fit(Xipca_train,y_train_balanced)\n",
    "prediccionBaggin = estimator.predict(Xipca_test)\n",
    "\n",
    "print(f\"\"\"\n",
    "Presición_Predicción : {accuracy_score(prediccionBaggin  , y_test)}\n",
    "        ------------------------------------------------ \"\"\")\n",
    "\n",
    "confusion = confusion_matrix(y_test, prediccionBaggin)\n",
    "print(confusion)"
   ]
  },
  {
   "attachments": {},
   "cell_type": "markdown",
   "metadata": {},
   "source": [
    "# Score Final: __87 %__"
   ]
  },
  {
   "cell_type": "code",
   "execution_count": null,
   "metadata": {},
   "outputs": [],
   "source": []
  },
  {
   "cell_type": "code",
   "execution_count": null,
   "metadata": {},
   "outputs": [],
   "source": []
  }
 ],
 "metadata": {
  "kernelspec": {
   "display_name": "analisis_churn",
   "language": "python",
   "name": "python3"
  },
  "language_info": {
   "codemirror_mode": {
    "name": "ipython",
    "version": 3
   },
   "file_extension": ".py",
   "mimetype": "text/x-python",
   "name": "python",
   "nbconvert_exporter": "python",
   "pygments_lexer": "ipython3",
   "version": "3.9.15"
  },
  "orig_nbformat": 4,
  "vscode": {
   "interpreter": {
    "hash": "94c9ed87a6a7550ed83cea8e0ec154a897c44c0ec4bf99cd9bf34920c19c5a0a"
   }
  }
 },
 "nbformat": 4,
 "nbformat_minor": 2
}
