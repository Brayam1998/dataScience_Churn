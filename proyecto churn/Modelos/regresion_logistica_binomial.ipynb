{
 "cells": [
  {
   "cell_type": "code",
   "execution_count": 442,
   "metadata": {},
   "outputs": [],
   "source": [
    "import pandas as pd\n",
    "import matplotlib.pyplot as plt\n",
    "import sklearn\n",
    "import seaborn as sns\n",
    "#Prepocesamiento y normalizacion de datos\n",
    "from sklearn.preprocessing import StandardScaler\n",
    "# divicion de los datos en train test\n",
    "from sklearn.model_selection import train_test_split\n",
    "from sklearn.utils import resample\n",
    "from imblearn.under_sampling import RandomUnderSampler\n",
    "# Analisis de componentes principales\n",
    "from sklearn.decomposition import IncrementalPCA\n",
    "# EStimadores\n",
    "from sklearn.ensemble import GradientBoostingClassifier\n",
    "from sklearn.ensemble import BaggingClassifier\n",
    "#Modelos Logisticos\n",
    "from sklearn.neighbors import KNeighborsClassifier\n",
    "from sklearn.linear_model import LogisticRegression\n",
    "from sklearn.tree import DecisionTreeClassifier\n",
    "from sklearn.ensemble import RandomForestClassifier\n",
    "from sklearn.svm import LinearSVC\n",
    "from sklearn.svm import SVC\n",
    "from sklearn.linear_model import SGDClassifier\n",
    "# Medicion de efectividad de modelo\n",
    "from sklearn.metrics import accuracy_score\n",
    "from sklearn.metrics import confusion_matrix\n",
    "from sklearn.metrics import ConfusionMatrixDisplay\n",
    "#Optimizacion Parametrica\n",
    "from sklearn.model_selection import RandomizedSearchCV\n",
    "import joblib \n",
    "\n",
    "import warnings\n",
    "warnings.filterwarnings(\"ignore\")"
   ]
  },
  {
   "attachments": {},
   "cell_type": "markdown",
   "metadata": {},
   "source": [
    "# Seleccion de Variables"
   ]
  },
  {
   "cell_type": "code",
   "execution_count": 443,
   "metadata": {},
   "outputs": [],
   "source": [
    "vars =['Churn Reason_Attitude of support person', 'Unnamed: 0',\n",
    "       'Churn Reason_Competitor had better devices',\n",
    "       'Churn Reason_Competitor made better offer',\n",
    "       'Churn Reason_Competitor offered higher download speeds',\n",
    "       'Churn Reason_Competitor offered more data', 'Churn Reason_Deceased',\n",
    "       'Churn Reason_Extra data charges',\n",
    "       'Churn Reason_Lack of affordable download/upload speed',\n",
    "       'Churn Reason_Lack of self-service on Website',\n",
    "       'Churn Reason_Limited range of services',\n",
    "       'Churn Reason_Long distance charges', 'Churn Reason_Moved',\n",
    "       'Churn Reason_Network reliability',\n",
    "       'Churn Reason_Poor expertise of online support',\n",
    "       'Churn Reason_Poor expertise of phone support',\n",
    "       'Churn Reason_Price too high', 'Churn Reason_Product dissatisfaction',\n",
    "       'Churn Reason_Service dissatisfaction', 'Churn Reason_cliente_activo', \n",
    "\n",
    "       \"Churn Reason_Don't know\" , \"Unnamed: 0\", \"Gender_Male\", \"Senior Citizen_Yes\", \"Contract_Two year\", \"Payment Method_Credit card (automatic)\",\n",
    "       \"Partner_Yes\" , \"Phone Service_Yes\",\"Multiple Lines_No phone service\", \"Online Security_No internet service\",\"Internet Service_Fiber optic\"\n",
    "       \n",
    "       ]"
   ]
  },
  {
   "cell_type": "code",
   "execution_count": 444,
   "metadata": {},
   "outputs": [],
   "source": [
    "data = pd.read_csv(\"dataML.csv\")\n",
    "dataL = data.drop(columns = vars ) \n",
    "dataset = dataL.copy(deep = True)\n",
    "\n",
    "dataset = dataset.sample(frac=1)\n",
    "\n"
   ]
  },
  {
   "cell_type": "code",
   "execution_count": 445,
   "metadata": {},
   "outputs": [
    {
     "data": {
      "text/plain": [
       "(7032, 24)"
      ]
     },
     "execution_count": 445,
     "metadata": {},
     "output_type": "execute_result"
    }
   ],
   "source": [
    "dataset.shape"
   ]
  },
  {
   "cell_type": "code",
   "execution_count": 446,
   "metadata": {},
   "outputs": [],
   "source": [
    "dataFeatures = dataset.drop(columns= \"Churn Value\"  )\n",
    "dataTarget = dataset[\"Churn Value\"]\n",
    "\n",
    "\n",
    "undersample = RandomUnderSampler(random_state=42)\n",
    "\n",
    "# le pasamos los datos ala funcion para que los nivele \n",
    "X_over , y_over = undersample.fit_resample(dataFeatures , dataTarget )"
   ]
  },
  {
   "attachments": {},
   "cell_type": "markdown",
   "metadata": {},
   "source": [
    "# Escalamiento de datos: "
   ]
  },
  {
   "cell_type": "code",
   "execution_count": 447,
   "metadata": {},
   "outputs": [
    {
     "data": {
      "text/html": [
       "<div>\n",
       "<style scoped>\n",
       "    .dataframe tbody tr th:only-of-type {\n",
       "        vertical-align: middle;\n",
       "    }\n",
       "\n",
       "    .dataframe tbody tr th {\n",
       "        vertical-align: top;\n",
       "    }\n",
       "\n",
       "    .dataframe thead th {\n",
       "        text-align: right;\n",
       "    }\n",
       "</style>\n",
       "<table border=\"1\" class=\"dataframe\">\n",
       "  <thead>\n",
       "    <tr style=\"text-align: right;\">\n",
       "      <th></th>\n",
       "      <th>Tenure Months</th>\n",
       "      <th>Monthly Charges</th>\n",
       "      <th>Total Charges</th>\n",
       "      <th>Churn Score</th>\n",
       "      <th>CLTV</th>\n",
       "      <th>Dependents_Yes</th>\n",
       "      <th>Multiple Lines_Yes</th>\n",
       "      <th>Online Security_Yes</th>\n",
       "      <th>Online Backup_No internet service</th>\n",
       "      <th>Online Backup_Yes</th>\n",
       "      <th>...</th>\n",
       "      <th>Tech Support_Yes</th>\n",
       "      <th>Streaming TV_No internet service</th>\n",
       "      <th>Streaming TV_Yes</th>\n",
       "      <th>Contract_One year</th>\n",
       "      <th>Paperless Billing_Yes</th>\n",
       "      <th>Internet Service_No</th>\n",
       "      <th>Streaming Movies_No internet service</th>\n",
       "      <th>Streaming Movies_Yes</th>\n",
       "      <th>Payment Method_Electronic check</th>\n",
       "      <th>Payment Method_Mailed check</th>\n",
       "    </tr>\n",
       "  </thead>\n",
       "  <tbody>\n",
       "    <tr>\n",
       "      <th>0</th>\n",
       "      <td>-1.239504</td>\n",
       "      <td>0.280941</td>\n",
       "      <td>-0.949546</td>\n",
       "      <td>0.895722</td>\n",
       "      <td>-1.253833</td>\n",
       "      <td>-0.547115</td>\n",
       "      <td>1.170500</td>\n",
       "      <td>-0.633746</td>\n",
       "      <td>-0.525130</td>\n",
       "      <td>-0.725516</td>\n",
       "      <td>...</td>\n",
       "      <td>-0.639260</td>\n",
       "      <td>-0.525130</td>\n",
       "      <td>-0.790186</td>\n",
       "      <td>-0.514537</td>\n",
       "      <td>0.828939</td>\n",
       "      <td>-0.525130</td>\n",
       "      <td>-0.525130</td>\n",
       "      <td>-0.796849</td>\n",
       "      <td>-0.711863</td>\n",
       "      <td>-0.543604</td>\n",
       "    </tr>\n",
       "    <tr>\n",
       "      <th>1</th>\n",
       "      <td>-1.280248</td>\n",
       "      <td>-0.490237</td>\n",
       "      <td>-0.985282</td>\n",
       "      <td>0.106118</td>\n",
       "      <td>0.948597</td>\n",
       "      <td>1.827769</td>\n",
       "      <td>1.170500</td>\n",
       "      <td>-0.633746</td>\n",
       "      <td>-0.525130</td>\n",
       "      <td>-0.725516</td>\n",
       "      <td>...</td>\n",
       "      <td>-0.639260</td>\n",
       "      <td>-0.525130</td>\n",
       "      <td>-0.790186</td>\n",
       "      <td>-0.514537</td>\n",
       "      <td>0.828939</td>\n",
       "      <td>-0.525130</td>\n",
       "      <td>-0.525130</td>\n",
       "      <td>-0.796849</td>\n",
       "      <td>1.404764</td>\n",
       "      <td>-0.543604</td>\n",
       "    </tr>\n",
       "    <tr>\n",
       "      <th>2</th>\n",
       "      <td>-1.239504</td>\n",
       "      <td>-1.515705</td>\n",
       "      <td>-0.990951</td>\n",
       "      <td>-1.612431</td>\n",
       "      <td>0.148482</td>\n",
       "      <td>-0.547115</td>\n",
       "      <td>-0.854336</td>\n",
       "      <td>-0.633746</td>\n",
       "      <td>1.904289</td>\n",
       "      <td>-0.725516</td>\n",
       "      <td>...</td>\n",
       "      <td>-0.639260</td>\n",
       "      <td>1.904289</td>\n",
       "      <td>-0.790186</td>\n",
       "      <td>-0.514537</td>\n",
       "      <td>-1.206361</td>\n",
       "      <td>1.904289</td>\n",
       "      <td>1.904289</td>\n",
       "      <td>-0.796849</td>\n",
       "      <td>1.404764</td>\n",
       "      <td>-0.543604</td>\n",
       "    </tr>\n",
       "    <tr>\n",
       "      <th>3</th>\n",
       "      <td>-0.872808</td>\n",
       "      <td>0.601712</td>\n",
       "      <td>-0.619097</td>\n",
       "      <td>-1.751773</td>\n",
       "      <td>0.009773</td>\n",
       "      <td>-0.547115</td>\n",
       "      <td>-0.854336</td>\n",
       "      <td>-0.633746</td>\n",
       "      <td>-0.525130</td>\n",
       "      <td>-0.725516</td>\n",
       "      <td>...</td>\n",
       "      <td>1.564308</td>\n",
       "      <td>-0.525130</td>\n",
       "      <td>1.265525</td>\n",
       "      <td>-0.514537</td>\n",
       "      <td>0.828939</td>\n",
       "      <td>-0.525130</td>\n",
       "      <td>-0.525130</td>\n",
       "      <td>-0.796849</td>\n",
       "      <td>1.404764</td>\n",
       "      <td>-0.543604</td>\n",
       "    </tr>\n",
       "    <tr>\n",
       "      <th>4</th>\n",
       "      <td>0.471742</td>\n",
       "      <td>-1.487450</td>\n",
       "      <td>-0.634450</td>\n",
       "      <td>-0.822827</td>\n",
       "      <td>-1.356174</td>\n",
       "      <td>-0.547115</td>\n",
       "      <td>-0.854336</td>\n",
       "      <td>-0.633746</td>\n",
       "      <td>1.904289</td>\n",
       "      <td>-0.725516</td>\n",
       "      <td>...</td>\n",
       "      <td>-0.639260</td>\n",
       "      <td>1.904289</td>\n",
       "      <td>-0.790186</td>\n",
       "      <td>-0.514537</td>\n",
       "      <td>-1.206361</td>\n",
       "      <td>1.904289</td>\n",
       "      <td>1.904289</td>\n",
       "      <td>-0.796849</td>\n",
       "      <td>-0.711863</td>\n",
       "      <td>1.839576</td>\n",
       "    </tr>\n",
       "    <tr>\n",
       "      <th>...</th>\n",
       "      <td>...</td>\n",
       "      <td>...</td>\n",
       "      <td>...</td>\n",
       "      <td>...</td>\n",
       "      <td>...</td>\n",
       "      <td>...</td>\n",
       "      <td>...</td>\n",
       "      <td>...</td>\n",
       "      <td>...</td>\n",
       "      <td>...</td>\n",
       "      <td>...</td>\n",
       "      <td>...</td>\n",
       "      <td>...</td>\n",
       "      <td>...</td>\n",
       "      <td>...</td>\n",
       "      <td>...</td>\n",
       "      <td>...</td>\n",
       "      <td>...</td>\n",
       "      <td>...</td>\n",
       "      <td>...</td>\n",
       "      <td>...</td>\n",
       "    </tr>\n",
       "    <tr>\n",
       "      <th>7027</th>\n",
       "      <td>-0.261649</td>\n",
       "      <td>-0.340655</td>\n",
       "      <td>-0.406091</td>\n",
       "      <td>-0.219013</td>\n",
       "      <td>-0.089184</td>\n",
       "      <td>-0.547115</td>\n",
       "      <td>-0.854336</td>\n",
       "      <td>1.577918</td>\n",
       "      <td>-0.525130</td>\n",
       "      <td>-0.725516</td>\n",
       "      <td>...</td>\n",
       "      <td>1.564308</td>\n",
       "      <td>-0.525130</td>\n",
       "      <td>1.265525</td>\n",
       "      <td>1.943495</td>\n",
       "      <td>-1.206361</td>\n",
       "      <td>-0.525130</td>\n",
       "      <td>-0.525130</td>\n",
       "      <td>1.254943</td>\n",
       "      <td>-0.711863</td>\n",
       "      <td>-0.543604</td>\n",
       "    </tr>\n",
       "    <tr>\n",
       "      <th>7028</th>\n",
       "      <td>1.612573</td>\n",
       "      <td>1.685350</td>\n",
       "      <td>2.709707</td>\n",
       "      <td>0.291907</td>\n",
       "      <td>-0.325159</td>\n",
       "      <td>1.827769</td>\n",
       "      <td>1.170500</td>\n",
       "      <td>1.577918</td>\n",
       "      <td>-0.525130</td>\n",
       "      <td>1.378330</td>\n",
       "      <td>...</td>\n",
       "      <td>1.564308</td>\n",
       "      <td>-0.525130</td>\n",
       "      <td>1.265525</td>\n",
       "      <td>-0.514537</td>\n",
       "      <td>0.828939</td>\n",
       "      <td>-0.525130</td>\n",
       "      <td>-0.525130</td>\n",
       "      <td>1.254943</td>\n",
       "      <td>1.404764</td>\n",
       "      <td>-0.543604</td>\n",
       "    </tr>\n",
       "    <tr>\n",
       "      <th>7029</th>\n",
       "      <td>-1.280248</td>\n",
       "      <td>-1.321248</td>\n",
       "      <td>-0.996312</td>\n",
       "      <td>0.291907</td>\n",
       "      <td>0.372616</td>\n",
       "      <td>-0.547115</td>\n",
       "      <td>-0.854336</td>\n",
       "      <td>-0.633746</td>\n",
       "      <td>-0.525130</td>\n",
       "      <td>-0.725516</td>\n",
       "      <td>...</td>\n",
       "      <td>-0.639260</td>\n",
       "      <td>-0.525130</td>\n",
       "      <td>-0.790186</td>\n",
       "      <td>-0.514537</td>\n",
       "      <td>-1.206361</td>\n",
       "      <td>-0.525130</td>\n",
       "      <td>-0.525130</td>\n",
       "      <td>-0.796849</td>\n",
       "      <td>-0.711863</td>\n",
       "      <td>1.839576</td>\n",
       "    </tr>\n",
       "    <tr>\n",
       "      <th>7030</th>\n",
       "      <td>0.064303</td>\n",
       "      <td>1.296437</td>\n",
       "      <td>0.523910</td>\n",
       "      <td>0.895722</td>\n",
       "      <td>0.829341</td>\n",
       "      <td>1.827769</td>\n",
       "      <td>1.170500</td>\n",
       "      <td>1.577918</td>\n",
       "      <td>-0.525130</td>\n",
       "      <td>1.378330</td>\n",
       "      <td>...</td>\n",
       "      <td>-0.639260</td>\n",
       "      <td>-0.525130</td>\n",
       "      <td>1.265525</td>\n",
       "      <td>1.943495</td>\n",
       "      <td>0.828939</td>\n",
       "      <td>-0.525130</td>\n",
       "      <td>-0.525130</td>\n",
       "      <td>1.254943</td>\n",
       "      <td>1.404764</td>\n",
       "      <td>-0.543604</td>\n",
       "    </tr>\n",
       "    <tr>\n",
       "      <th>7031</th>\n",
       "      <td>1.490341</td>\n",
       "      <td>-0.854220</td>\n",
       "      <td>0.218917</td>\n",
       "      <td>-0.265460</td>\n",
       "      <td>1.341042</td>\n",
       "      <td>1.827769</td>\n",
       "      <td>-0.854336</td>\n",
       "      <td>1.577918</td>\n",
       "      <td>-0.525130</td>\n",
       "      <td>-0.725516</td>\n",
       "      <td>...</td>\n",
       "      <td>1.564308</td>\n",
       "      <td>-0.525130</td>\n",
       "      <td>-0.790186</td>\n",
       "      <td>-0.514537</td>\n",
       "      <td>-1.206361</td>\n",
       "      <td>-0.525130</td>\n",
       "      <td>-0.525130</td>\n",
       "      <td>-0.796849</td>\n",
       "      <td>-0.711863</td>\n",
       "      <td>1.839576</td>\n",
       "    </tr>\n",
       "  </tbody>\n",
       "</table>\n",
       "<p>7032 rows × 23 columns</p>\n",
       "</div>"
      ],
      "text/plain": [
       "      Tenure Months  Monthly Charges  Total Charges  Churn Score      CLTV  \\\n",
       "0         -1.239504         0.280941      -0.949546     0.895722 -1.253833   \n",
       "1         -1.280248        -0.490237      -0.985282     0.106118  0.948597   \n",
       "2         -1.239504        -1.515705      -0.990951    -1.612431  0.148482   \n",
       "3         -0.872808         0.601712      -0.619097    -1.751773  0.009773   \n",
       "4          0.471742        -1.487450      -0.634450    -0.822827 -1.356174   \n",
       "...             ...              ...            ...          ...       ...   \n",
       "7027      -0.261649        -0.340655      -0.406091    -0.219013 -0.089184   \n",
       "7028       1.612573         1.685350       2.709707     0.291907 -0.325159   \n",
       "7029      -1.280248        -1.321248      -0.996312     0.291907  0.372616   \n",
       "7030       0.064303         1.296437       0.523910     0.895722  0.829341   \n",
       "7031       1.490341        -0.854220       0.218917    -0.265460  1.341042   \n",
       "\n",
       "      Dependents_Yes  Multiple Lines_Yes  Online Security_Yes  \\\n",
       "0          -0.547115            1.170500            -0.633746   \n",
       "1           1.827769            1.170500            -0.633746   \n",
       "2          -0.547115           -0.854336            -0.633746   \n",
       "3          -0.547115           -0.854336            -0.633746   \n",
       "4          -0.547115           -0.854336            -0.633746   \n",
       "...              ...                 ...                  ...   \n",
       "7027       -0.547115           -0.854336             1.577918   \n",
       "7028        1.827769            1.170500             1.577918   \n",
       "7029       -0.547115           -0.854336            -0.633746   \n",
       "7030        1.827769            1.170500             1.577918   \n",
       "7031        1.827769           -0.854336             1.577918   \n",
       "\n",
       "      Online Backup_No internet service  Online Backup_Yes  ...  \\\n",
       "0                             -0.525130          -0.725516  ...   \n",
       "1                             -0.525130          -0.725516  ...   \n",
       "2                              1.904289          -0.725516  ...   \n",
       "3                             -0.525130          -0.725516  ...   \n",
       "4                              1.904289          -0.725516  ...   \n",
       "...                                 ...                ...  ...   \n",
       "7027                          -0.525130          -0.725516  ...   \n",
       "7028                          -0.525130           1.378330  ...   \n",
       "7029                          -0.525130          -0.725516  ...   \n",
       "7030                          -0.525130           1.378330  ...   \n",
       "7031                          -0.525130          -0.725516  ...   \n",
       "\n",
       "      Tech Support_Yes  Streaming TV_No internet service  Streaming TV_Yes  \\\n",
       "0            -0.639260                         -0.525130         -0.790186   \n",
       "1            -0.639260                         -0.525130         -0.790186   \n",
       "2            -0.639260                          1.904289         -0.790186   \n",
       "3             1.564308                         -0.525130          1.265525   \n",
       "4            -0.639260                          1.904289         -0.790186   \n",
       "...                ...                               ...               ...   \n",
       "7027          1.564308                         -0.525130          1.265525   \n",
       "7028          1.564308                         -0.525130          1.265525   \n",
       "7029         -0.639260                         -0.525130         -0.790186   \n",
       "7030         -0.639260                         -0.525130          1.265525   \n",
       "7031          1.564308                         -0.525130         -0.790186   \n",
       "\n",
       "      Contract_One year  Paperless Billing_Yes  Internet Service_No  \\\n",
       "0             -0.514537               0.828939            -0.525130   \n",
       "1             -0.514537               0.828939            -0.525130   \n",
       "2             -0.514537              -1.206361             1.904289   \n",
       "3             -0.514537               0.828939            -0.525130   \n",
       "4             -0.514537              -1.206361             1.904289   \n",
       "...                 ...                    ...                  ...   \n",
       "7027           1.943495              -1.206361            -0.525130   \n",
       "7028          -0.514537               0.828939            -0.525130   \n",
       "7029          -0.514537              -1.206361            -0.525130   \n",
       "7030           1.943495               0.828939            -0.525130   \n",
       "7031          -0.514537              -1.206361            -0.525130   \n",
       "\n",
       "      Streaming Movies_No internet service  Streaming Movies_Yes  \\\n",
       "0                                -0.525130             -0.796849   \n",
       "1                                -0.525130             -0.796849   \n",
       "2                                 1.904289             -0.796849   \n",
       "3                                -0.525130             -0.796849   \n",
       "4                                 1.904289             -0.796849   \n",
       "...                                    ...                   ...   \n",
       "7027                             -0.525130              1.254943   \n",
       "7028                             -0.525130              1.254943   \n",
       "7029                             -0.525130             -0.796849   \n",
       "7030                             -0.525130              1.254943   \n",
       "7031                             -0.525130             -0.796849   \n",
       "\n",
       "      Payment Method_Electronic check  Payment Method_Mailed check  \n",
       "0                           -0.711863                    -0.543604  \n",
       "1                            1.404764                    -0.543604  \n",
       "2                            1.404764                    -0.543604  \n",
       "3                            1.404764                    -0.543604  \n",
       "4                           -0.711863                     1.839576  \n",
       "...                               ...                          ...  \n",
       "7027                        -0.711863                    -0.543604  \n",
       "7028                         1.404764                    -0.543604  \n",
       "7029                        -0.711863                     1.839576  \n",
       "7030                         1.404764                    -0.543604  \n",
       "7031                        -0.711863                     1.839576  \n",
       "\n",
       "[7032 rows x 23 columns]"
      ]
     },
     "execution_count": 447,
     "metadata": {},
     "output_type": "execute_result"
    }
   ],
   "source": [
    "scaler = StandardScaler()\n",
    "dataScaled = scaler.fit_transform(dataFeatures)\n",
    "dataScaled=  pd.DataFrame(dataScaled, columns= X_over.columns)"
   ]
  },
  {
   "cell_type": "code",
   "execution_count": 448,
   "metadata": {},
   "outputs": [],
   "source": [
    "#dataScaled.to_csv(\"dataScalada\")"
   ]
  },
  {
   "attachments": {},
   "cell_type": "markdown",
   "metadata": {},
   "source": [
    "Division datos test y entranamiento"
   ]
  },
  {
   "cell_type": "code",
   "execution_count": 449,
   "metadata": {},
   "outputs": [],
   "source": [
    "X_train , X_test , y_train , y_test = train_test_split(dataScaled , dataTarget , test_size= .3, random_state= 42 , stratify= dataTarget,shuffle=True)\n",
    "X_train_balanced, y_train_balanced = resample(X_train, y_train, n_samples=len(X_train), random_state=42, replace=True)"
   ]
  },
  {
   "attachments": {},
   "cell_type": "markdown",
   "metadata": {},
   "source": [
    "# Analisis de Componentes Principales"
   ]
  },
  {
   "attachments": {},
   "cell_type": "markdown",
   "metadata": {},
   "source": [
    "IPCA"
   ]
  },
  {
   "cell_type": "code",
   "execution_count": 450,
   "metadata": {},
   "outputs": [],
   "source": [
    "ipca = IncrementalPCA( n_components=6 , batch_size= 10).fit(X_train_balanced)\n",
    "Xipca_train = ipca.transform(X_train_balanced)\n",
    "Xipca_test =  ipca.transform(X_test)"
   ]
  },
  {
   "cell_type": "code",
   "execution_count": 451,
   "metadata": {},
   "outputs": [
    {
     "data": {
      "text/plain": [
       "[<matplotlib.lines.Line2D at 0x198427c8460>]"
      ]
     },
     "execution_count": 451,
     "metadata": {},
     "output_type": "execute_result"
    },
    {
     "data": {
      "image/png": "[encoded data removed]",
      "text/plain": [
       "<Figure size 640x480 with 1 Axes>"
      ]
     },
     "metadata": {},
     "output_type": "display_data"
    }
   ],
   "source": [
    "plt.plot(range(len(ipca.explained_variance_)),ipca.explained_variance_ratio_)"
   ]
  },
  {
   "attachments": {},
   "cell_type": "markdown",
   "metadata": {},
   "source": [
    "Notamos que tanto pca como ipca tienen buen score, dado que la variable que intentamos predicir tiene comportamiento lineal con otras. por el contrario el kernel para datos no lineales no es optimo para este modelo."
   ]
  },
  {
   "attachments": {},
   "cell_type": "markdown",
   "metadata": {},
   "source": [
    "Usaremos Ipca dado que el set de datos es pequeño y tienen un buen desempeño."
   ]
  },
  {
   "cell_type": "code",
   "execution_count": 452,
   "metadata": {},
   "outputs": [
    {
     "name": "stdout",
     "output_type": "stream",
     "text": [
      " Presición_Predicción : 0.8753554502369668 \n"
     ]
    },
    {
     "data": {
      "text/plain": [
       "<Figure size 1100x1100 with 0 Axes>"
      ]
     },
     "metadata": {},
     "output_type": "display_data"
    },
    {
     "data": {
      "image/png": "[encoded data removed]",
      "text/plain": [
       "<Figure size 640x480 with 2 Axes>"
      ]
     },
     "metadata": {},
     "output_type": "display_data"
    }
   ],
   "source": [
    "randomF_model= RandomForestClassifier(criterion='gini', max_depth=10, n_estimators=125).fit(Xipca_train, y_train_balanced)\n",
    "prediccionRandomForest = randomF_model.predict(Xipca_test)\n",
    "\n",
    "#Resultados\n",
    "fig = plt.figure(figsize=(11,11))\n",
    "print(f\"\"\" Presición_Predicción : {accuracy_score(prediccionRandomForest, y_test)} \"\"\")\n",
    "cm = confusion_matrix(y_test, prediccionRandomForest ,labels= randomF_model.classes_)\n",
    "disp = ConfusionMatrixDisplay(confusion_matrix = cm, display_labels=randomF_model.classes_)\n",
    "disp.plot(cmap='gray')\n",
    "plt.show()"
   ]
  },
  {
   "cell_type": "code",
   "execution_count": 453,
   "metadata": {},
   "outputs": [
    {
     "data": {
      "text/plain": [
       "['random6.pkl']"
      ]
     },
     "execution_count": 453,
     "metadata": {},
     "output_type": "execute_result"
    }
   ],
   "source": [
    "#joblib.dump(randomF_model, 'random6.pkl')"
   ]
  },
  {
   "attachments": {},
   "cell_type": "markdown",
   "metadata": {},
   "source": [
    "# Ensambladores :"
   ]
  },
  {
   "attachments": {},
   "cell_type": "markdown",
   "metadata": {},
   "source": [
    "Baggin"
   ]
  },
  {
   "cell_type": "code",
   "execution_count": 454,
   "metadata": {},
   "outputs": [
    {
     "name": "stdout",
     "output_type": "stream",
     "text": [
      "\n",
      "        Clasificador: \" LogisticRegression(max_iter=1000) \n",
      "        N_estamaciones: \" 30\n",
      "        Presición_Predicción : 0.8838862559241706\n",
      "        ------------------------------------------------ \n",
      "\n",
      "        Clasificador: \" DecisionTreeClassifier() \n",
      "        N_estamaciones: \" 30\n",
      "        Presición_Predicción : 0.8682464454976303\n",
      "        ------------------------------------------------ \n",
      "\n",
      "        Clasificador: \" KNeighborsClassifier() \n",
      "        N_estamaciones: \" 30\n",
      "        Presición_Predicción : 0.852132701421801\n",
      "        ------------------------------------------------ \n",
      "\n",
      "        Clasificador: \" RandomForestClassifier(max_depth=10, n_estimators=123) \n",
      "        N_estamaciones: \" 30\n",
      "        Presición_Predicción : 0.876303317535545\n",
      "        ------------------------------------------------ \n",
      "\n",
      "        Clasificador: \" LinearSVC() \n",
      "        N_estamaciones: \" 30\n",
      "        Presición_Predicción : 0.8824644549763033\n",
      "        ------------------------------------------------ \n",
      "\n",
      "        Clasificador: \" SVC() \n",
      "        N_estamaciones: \" 30\n",
      "        Presición_Predicción : 0.8928909952606635\n",
      "        ------------------------------------------------ \n",
      "\n",
      "        Clasificador: \" SGDClassifier() \n",
      "        N_estamaciones: \" 30\n",
      "        Presición_Predicción : 0.8819905213270142\n",
      "        ------------------------------------------------ \n"
     ]
    }
   ],
   "source": [
    "modelos = (\n",
    "LogisticRegression(solver = \"lbfgs\", max_iter = 1000), \n",
    "DecisionTreeClassifier(),\n",
    "KNeighborsClassifier(),\n",
    "RandomForestClassifier(criterion='gini', max_depth=10, n_estimators=123),\n",
    "LinearSVC(),\n",
    "SVC(),\n",
    "SGDClassifier())\n",
    "\n",
    "def estimadores_bagginIPCA(clasificadores):\n",
    "    for clasificador in clasificadores:\n",
    "        modelo = BaggingClassifier(\n",
    "            base_estimator= clasificador , n_estimators= 30).fit(\n",
    "            Xipca_train,y_train_balanced)\n",
    "        modelo_predict = modelo.predict(Xipca_test)\n",
    "        print(f\"\"\"\n",
    "        Clasificador: \" {clasificador} \n",
    "        N_estamaciones: \" {modelo.n_estimators}\n",
    "        Presición_Predicción : {accuracy_score(modelo_predict , y_test)}\n",
    "        ------------------------------------------------ \"\"\")\n",
    "\n",
    "estimadores_bagginIPCA(modelos)"
   ]
  },
  {
   "attachments": {},
   "cell_type": "markdown",
   "metadata": {},
   "source": [
    "Boostin"
   ]
  },
  {
   "cell_type": "code",
   "execution_count": 455,
   "metadata": {},
   "outputs": [
    {
     "name": "stdout",
     "output_type": "stream",
     "text": [
      "================================================================\n",
      "0.8791469194312796\n"
     ]
    }
   ],
   "source": [
    "boost = GradientBoostingClassifier(n_estimators=120  , learning_rate=.1 , subsample=1).fit(Xipca_train, y_train_balanced)\n",
    "boost_pred = boost.predict(Xipca_test)\n",
    "print(\"=\"*64)\n",
    "print(accuracy_score(boost_pred, y_test))"
   ]
  },
  {
   "attachments": {},
   "cell_type": "markdown",
   "metadata": {},
   "source": [
    "# Optimización Parametrica"
   ]
  },
  {
   "cell_type": "code",
   "execution_count": 456,
   "metadata": {},
   "outputs": [
    {
     "name": "stdout",
     "output_type": "stream",
     "text": [
      "RandomForestClassifier(max_depth=10, n_estimators=94)\n",
      "{'n_estimators': 94, 'max_depth': 10, 'criterion': 'gini'}\n"
     ]
    }
   ],
   "source": [
    "clasificador = RandomForestClassifier()\n",
    "parametros = {\n",
    "    'n_estimators': range(90, 130),\n",
    "    'criterion': [ \"gini\" , \"entropy\", \"log_loss\"],\n",
    "    'max_depth': range(6 , 11)}\n",
    "\n",
    "estimacionParametrica = RandomizedSearchCV(\n",
    "    clasificador, parametros, n_iter=15, cv=6).fit(Xipca_train, y_train_balanced)\n",
    "\n",
    "print(estimacionParametrica.best_estimator_)\n",
    "print(estimacionParametrica.best_params_)"
   ]
  },
  {
   "cell_type": "code",
   "execution_count": 457,
   "metadata": {},
   "outputs": [
    {
     "name": "stdout",
     "output_type": "stream",
     "text": [
      " Presición_Predicción : 0.8753554502369668 \n"
     ]
    },
    {
     "data": {
      "text/plain": [
       "<Figure size 1100x1100 with 0 Axes>"
      ]
     },
     "metadata": {},
     "output_type": "display_data"
    },
    {
     "data": {
      "image/png": "[encoded data removed]",
      "text/plain": [
       "<Figure size 640x480 with 2 Axes>"
      ]
     },
     "metadata": {},
     "output_type": "display_data"
    }
   ],
   "source": [
    "randomF_model= RandomForestClassifier(criterion='gini', max_depth=10, n_estimators=125).fit(Xipca_train, y_train_balanced)\n",
    "prediccionRandomForest = randomF_model.predict(Xipca_test)\n",
    "\n",
    "#Resultados\n",
    "fig = plt.figure(figsize=(11,11))\n",
    "print(f\"\"\" Presición_Predicción : {accuracy_score(prediccionRandomForest, y_test)} \"\"\")\n",
    "cm = confusion_matrix(y_test, prediccionRandomForest ,labels= randomF_model.classes_)\n",
    "disp = ConfusionMatrixDisplay(confusion_matrix = cm, display_labels=randomF_model.classes_)\n",
    "disp.plot(cmap='gray')\n",
    "plt.show()"
   ]
  },
  {
   "attachments": {},
   "cell_type": "markdown",
   "metadata": {},
   "source": [
    "# Score Final: __87 %__"
   ]
  },
  {
   "attachments": {},
   "cell_type": "markdown",
   "metadata": {},
   "source": [
    "# Exportacion de Modelo"
   ]
  },
  {
   "cell_type": "code",
   "execution_count": 458,
   "metadata": {},
   "outputs": [],
   "source": [
    "#joblib.dump(randomF_model, 'randomForest_model_NS_4.pkl')"
   ]
  },
  {
   "attachments": {},
   "cell_type": "markdown",
   "metadata": {},
   "source": [
    "Importación de modelo"
   ]
  },
  {
   "cell_type": "code",
   "execution_count": 460,
   "metadata": {},
   "outputs": [],
   "source": [
    "model = joblib.load('random6.pkl')\n",
    "pred = model.predict(Xipca_test)"
   ]
  },
  {
   "cell_type": "code",
   "execution_count": 461,
   "metadata": {},
   "outputs": [
    {
     "name": "stdout",
     "output_type": "stream",
     "text": [
      " Presición_Predicción : 0.8753554502369668 \n"
     ]
    },
    {
     "data": {
      "text/plain": [
       "<Figure size 1100x1100 with 0 Axes>"
      ]
     },
     "metadata": {},
     "output_type": "display_data"
    },
    {
     "data": {
      "image/png": "[encoded data removed]",
      "text/plain": [
       "<Figure size 640x480 with 2 Axes>"
      ]
     },
     "metadata": {},
     "output_type": "display_data"
    }
   ],
   "source": [
    "print(f\"\"\" Presición_Predicción : {accuracy_score(pred, y_test)} \"\"\")\n",
    "fig = plt.figure(figsize=(11,11))\n",
    "cm = confusion_matrix(y_test, pred ,labels= model.classes_)\n",
    "disp = ConfusionMatrixDisplay(confusion_matrix = cm, display_labels=model.classes_).plot(cmap = \"gray\")\n",
    "plt.show()"
   ]
  }
 ],
 "metadata": {
  "kernelspec": {
   "display_name": "analisis_churn",
   "language": "python",
   "name": "python3"
  },
  "language_info": {
   "codemirror_mode": {
    "name": "ipython",
    "version": 3
   },
   "file_extension": ".py",
   "mimetype": "text/x-python",
   "name": "python",
   "nbconvert_exporter": "python",
   "pygments_lexer": "ipython3",
   "version": "3.9.15"
  },
  "orig_nbformat": 4,
  "vscode": {
   "interpreter": {
    "hash": "94c9ed87a6a7550ed83cea8e0ec154a897c44c0ec4bf99cd9bf34920c19c5a0a"
   }
  }
 },
 "nbformat": 4,
 "nbformat_minor": 2
}
