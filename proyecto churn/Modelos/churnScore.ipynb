{
 "cells": [
  {
   "cell_type": "code",
   "execution_count": 679,
   "metadata": {},
   "outputs": [],
   "source": [
    "import pandas as pd\n",
    "from sklearn.metrics  import mean_squared_error\n",
    "from sklearn.decomposition import PCA , IncrementalPCA\n",
    "import matplotlib.pyplot as plt\n",
    "from sklearn.linear_model import LinearRegression\n",
    "from sklearn.linear_model import Lasso \n",
    "from sklearn.linear_model import Ridge"
   ]
  },
  {
   "cell_type": "code",
   "execution_count": 680,
   "metadata": {},
   "outputs": [],
   "source": [
    "data = pd.read_csv(\"dataML.csv\")"
   ]
  },
  {
   "cell_type": "code",
   "execution_count": 681,
   "metadata": {},
   "outputs": [],
   "source": [
    "df = data.copy(deep = True)\n"
   ]
  },
  {
   "cell_type": "code",
   "execution_count": 682,
   "metadata": {},
   "outputs": [],
   "source": [
    "cols = [\"Tenure Months\" , \"Churn Value\" , \"Dependents_Yes\" ]"
   ]
  },
  {
   "cell_type": "code",
   "execution_count": 683,
   "metadata": {},
   "outputs": [],
   "source": [
    "target = df[\"Churn Score\"]\n",
    "features =df[cols]\n"
   ]
  },
  {
   "cell_type": "code",
   "execution_count": 684,
   "metadata": {},
   "outputs": [
    {
     "name": "stderr",
     "output_type": "stream",
     "text": [
      "C:\\Users\\DELL\\AppData\\Local\\Temp\\ipykernel_12368\\4083490930.py:1: SettingWithCopyWarning: \n",
      "A value is trying to be set on a copy of a slice from a DataFrame.\n",
      "Try using .loc[row_indexer,col_indexer] = value instead\n",
      "\n",
      "See the caveats in the documentation: https://pandas.pydata.org/pandas-docs/stable/user_guide/indexing.html#returning-a-view-versus-a-copy\n",
      "  features[\"Tenure Months\"] = features[\"Tenure Months\"]*3\n",
      "C:\\Users\\DELL\\AppData\\Local\\Temp\\ipykernel_12368\\4083490930.py:2: SettingWithCopyWarning: \n",
      "A value is trying to be set on a copy of a slice from a DataFrame.\n",
      "Try using .loc[row_indexer,col_indexer] = value instead\n",
      "\n",
      "See the caveats in the documentation: https://pandas.pydata.org/pandas-docs/stable/user_guide/indexing.html#returning-a-view-versus-a-copy\n",
      "  features[\"Churn Value\"] = features[\"Churn Value\"]*30\n"
     ]
    }
   ],
   "source": [
    "features[\"Tenure Months\"] = features[\"Tenure Months\"]*3\n",
    "features[\"Churn Value\"] = features[\"Churn Value\"]*30"
   ]
  },
  {
   "cell_type": "code",
   "execution_count": 685,
   "metadata": {},
   "outputs": [
    {
     "data": {
      "text/html": [
       "<div>\n",
       "<style scoped>\n",
       "    .dataframe tbody tr th:only-of-type {\n",
       "        vertical-align: middle;\n",
       "    }\n",
       "\n",
       "    .dataframe tbody tr th {\n",
       "        vertical-align: top;\n",
       "    }\n",
       "\n",
       "    .dataframe thead th {\n",
       "        text-align: right;\n",
       "    }\n",
       "</style>\n",
       "<table border=\"1\" class=\"dataframe\">\n",
       "  <thead>\n",
       "    <tr style=\"text-align: right;\">\n",
       "      <th></th>\n",
       "      <th>Tenure Months</th>\n",
       "      <th>Churn Value</th>\n",
       "      <th>Dependents_Yes</th>\n",
       "    </tr>\n",
       "  </thead>\n",
       "  <tbody>\n",
       "    <tr>\n",
       "      <th>0</th>\n",
       "      <td>6</td>\n",
       "      <td>30</td>\n",
       "      <td>0</td>\n",
       "    </tr>\n",
       "    <tr>\n",
       "      <th>1</th>\n",
       "      <td>6</td>\n",
       "      <td>30</td>\n",
       "      <td>1</td>\n",
       "    </tr>\n",
       "    <tr>\n",
       "      <th>2</th>\n",
       "      <td>24</td>\n",
       "      <td>30</td>\n",
       "      <td>1</td>\n",
       "    </tr>\n",
       "    <tr>\n",
       "      <th>3</th>\n",
       "      <td>84</td>\n",
       "      <td>30</td>\n",
       "      <td>1</td>\n",
       "    </tr>\n",
       "    <tr>\n",
       "      <th>4</th>\n",
       "      <td>147</td>\n",
       "      <td>30</td>\n",
       "      <td>1</td>\n",
       "    </tr>\n",
       "    <tr>\n",
       "      <th>...</th>\n",
       "      <td>...</td>\n",
       "      <td>...</td>\n",
       "      <td>...</td>\n",
       "    </tr>\n",
       "    <tr>\n",
       "      <th>7027</th>\n",
       "      <td>216</td>\n",
       "      <td>0</td>\n",
       "      <td>0</td>\n",
       "    </tr>\n",
       "    <tr>\n",
       "      <th>7028</th>\n",
       "      <td>72</td>\n",
       "      <td>0</td>\n",
       "      <td>1</td>\n",
       "    </tr>\n",
       "    <tr>\n",
       "      <th>7029</th>\n",
       "      <td>216</td>\n",
       "      <td>0</td>\n",
       "      <td>1</td>\n",
       "    </tr>\n",
       "    <tr>\n",
       "      <th>7030</th>\n",
       "      <td>33</td>\n",
       "      <td>0</td>\n",
       "      <td>1</td>\n",
       "    </tr>\n",
       "    <tr>\n",
       "      <th>7031</th>\n",
       "      <td>198</td>\n",
       "      <td>0</td>\n",
       "      <td>0</td>\n",
       "    </tr>\n",
       "  </tbody>\n",
       "</table>\n",
       "<p>7032 rows × 3 columns</p>\n",
       "</div>"
      ],
      "text/plain": [
       "      Tenure Months  Churn Value  Dependents_Yes\n",
       "0                 6           30               0\n",
       "1                 6           30               1\n",
       "2                24           30               1\n",
       "3                84           30               1\n",
       "4               147           30               1\n",
       "...             ...          ...             ...\n",
       "7027            216            0               0\n",
       "7028             72            0               1\n",
       "7029            216            0               1\n",
       "7030             33            0               1\n",
       "7031            198            0               0\n",
       "\n",
       "[7032 rows x 3 columns]"
      ]
     },
     "execution_count": 685,
     "metadata": {},
     "output_type": "execute_result"
    }
   ],
   "source": [
    "features"
   ]
  },
  {
   "cell_type": "code",
   "execution_count": 686,
   "metadata": {},
   "outputs": [],
   "source": [
    "from sklearn.preprocessing import StandardScaler"
   ]
  },
  {
   "cell_type": "code",
   "execution_count": 687,
   "metadata": {},
   "outputs": [],
   "source": [
    "scaler = StandardScaler()\n",
    "features_Scaled = scaler.fit_transform(features)\n",
    "features_Scaled=  pd.DataFrame(features_Scaled, columns= features.columns)"
   ]
  },
  {
   "attachments": {},
   "cell_type": "markdown",
   "metadata": {},
   "source": [
    "Divicion de datos"
   ]
  },
  {
   "cell_type": "code",
   "execution_count": 688,
   "metadata": {},
   "outputs": [],
   "source": [
    "from sklearn.model_selection import train_test_split"
   ]
  },
  {
   "cell_type": "code",
   "execution_count": 689,
   "metadata": {},
   "outputs": [],
   "source": [
    "X_train , X_test , y_train , y_test = train_test_split(features_Scaled,target, test_size=.2, random_state=42) "
   ]
  },
  {
   "attachments": {},
   "cell_type": "markdown",
   "metadata": {},
   "source": [
    "IPCA"
   ]
  },
  {
   "cell_type": "code",
   "execution_count": 690,
   "metadata": {},
   "outputs": [
    {
     "data": {
      "text/plain": [
       "[<matplotlib.lines.Line2D at 0x1d5deab0100>]"
      ]
     },
     "execution_count": 690,
     "metadata": {},
     "output_type": "execute_result"
    },
    {
     "data": {
      "image/png": "[encoded data removed]",
      "text/plain": [
       "<Figure size 640x480 with 1 Axes>"
      ]
     },
     "metadata": {},
     "output_type": "display_data"
    }
   ],
   "source": [
    "ipca = IncrementalPCA(n_components=3, batch_size= 10).fit(X_train)\n",
    "plt.plot(\n",
    "    range(len(ipca.explained_variance_)),\n",
    "    ipca.explained_variance_ratio_)"
   ]
  },
  {
   "attachments": {},
   "cell_type": "markdown",
   "metadata": {},
   "source": [
    "Regresion Logistica "
   ]
  },
  {
   "cell_type": "code",
   "execution_count": null,
   "metadata": {},
   "outputs": [],
   "source": []
  },
  {
   "cell_type": "code",
   "execution_count": 691,
   "metadata": {},
   "outputs": [],
   "source": [
    "modelo_linear = LinearRegression()\n",
    "modelo_linear2 = LinearRegression()"
   ]
  },
  {
   "cell_type": "code",
   "execution_count": 692,
   "metadata": {},
   "outputs": [
    {
     "data": {
      "text/plain": [
       "0.44740445854622557"
      ]
     },
     "execution_count": 692,
     "metadata": {},
     "output_type": "execute_result"
    }
   ],
   "source": [
    "modelo_linear.fit(X_train , y_train)\n",
    "modelo_linear.score(X_test,y_test)"
   ]
  },
  {
   "cell_type": "code",
   "execution_count": 693,
   "metadata": {},
   "outputs": [
    {
     "data": {
      "text/plain": [
       "0.4474044585462258"
      ]
     },
     "execution_count": 693,
     "metadata": {},
     "output_type": "execute_result"
    }
   ],
   "source": [
    "X_trainIPCA = ipca.transform(X_train)\n",
    "X_testIPCA = ipca.transform(X_test)\n",
    "modelo_linear2.fit(X_trainIPCA , y_train)\n",
    "modelo_linear2.score(X_testIPCA,y_test)"
   ]
  },
  {
   "cell_type": "code",
   "execution_count": 694,
   "metadata": {},
   "outputs": [],
   "source": [
    "from sklearn.linear_model import (\n",
    "    RANSACRegressor, HuberRegressor\n",
    ")\n",
    "\n",
    "from sklearn.svm import SVR"
   ]
  },
  {
   "cell_type": "code",
   "execution_count": 695,
   "metadata": {},
   "outputs": [],
   "source": [
    "# la manera profecional de hacer estimadores \n",
    "# usamos los estimadores y le pasamos sus parametros \n",
    "# ransac es un meta estimador, si no le definimos parametro lo toma como regresion lineal\n",
    "# le ponemos el valor por defecto\n",
    "estimadores = {\n",
    "        'SVR' : SVR(gamma= 'auto', C=1.0, epsilon=0.1),\n",
    "        'RANSAC' : RANSACRegressor(),\n",
    "        'HUBER':HuberRegressor(epsilon=1.35,max_iter=10000)\n",
    "    }"
   ]
  },
  {
   "cell_type": "code",
   "execution_count": 696,
   "metadata": {},
   "outputs": [
    {
     "name": "stdout",
     "output_type": "stream",
     "text": [
      "0.4435768861531587 __________________________________________________\n",
      "SVR\n",
      "error medio cuadrado: 259.0790585770\n",
      "0.1667737814066923 __________________________________________________\n",
      "RANSAC\n",
      "error medio cuadrado: 387.9627911256\n",
      "0.44688473261820294 __________________________________________________\n",
      "HUBER\n",
      "error medio cuadrado: 257.5388749887\n"
     ]
    }
   ],
   "source": [
    "for name , estimador in estimadores.items():\n",
    "    estimador.fit(X_train , y_train)\n",
    "    predictions = estimador.predict(X_test)\n",
    "    score = estimador.score(X_test, y_test)\n",
    "    print( score, \"_\"*50)\n",
    "    print(name)\n",
    "    print(\"error medio cuadrado:\" , \"%.10f\" % float (mean_squared_error(y_test , predictions)))"
   ]
  },
  {
   "cell_type": "markdown",
   "metadata": {},
   "source": []
  },
  {
   "attachments": {},
   "cell_type": "markdown",
   "metadata": {},
   "source": [
    "Prueba"
   ]
  },
  {
   "cell_type": "code",
   "execution_count": 697,
   "metadata": {},
   "outputs": [
    {
     "name": "stdout",
     "output_type": "stream",
     "text": [
      "__________________________________________________\n",
      "0.4435768861531587\n",
      "SVR\n",
      "error medio cuadrado: 259.0790585770\n",
      "__________________________________________________\n",
      "0.4367720310758928\n",
      "RANSAC\n",
      "error medio cuadrado: 262.2475025242\n",
      "__________________________________________________\n",
      "0.44688473259674766\n",
      "HUBER\n",
      "error medio cuadrado: 257.5388749987\n"
     ]
    }
   ],
   "source": [
    "for name , estimador in estimadores.items():\n",
    "    estimador.fit(X_trainIPCA , y_train)\n",
    "    score = estimador.score(X_testIPCA, y_test)\n",
    "    predictions = estimador.predict(X_testIPCA)\n",
    "    print(\"_\"*50)\n",
    "    print(score)\n",
    "    print(name)\n",
    "    print(\"error medio cuadrado:\" , \"%.10f\" % float (mean_squared_error(y_test , predictions)))"
   ]
  },
  {
   "cell_type": "code",
   "execution_count": 698,
   "metadata": {},
   "outputs": [
    {
     "name": "stdout",
     "output_type": "stream",
     "text": [
      "0.4474190018454257\n"
     ]
    }
   ],
   "source": [
    "modeloLasso = Lasso(alpha = .02).fit(X_train , y_train)\n",
    "y_predicLasso = modeloLasso.predict(X_test)\n",
    "print (modeloLasso.score(X_test , y_test))"
   ]
  },
  {
   "cell_type": "code",
   "execution_count": 699,
   "metadata": {},
   "outputs": [
    {
     "name": "stdout",
     "output_type": "stream",
     "text": [
      "0.447404180306626\n"
     ]
    }
   ],
   "source": [
    "model_Ridge = Ridge(alpha = 1).fit(X_train , y_train)\n",
    "y_predictRidge = model_Ridge.predict(features)\n",
    "print (model_Ridge.score(X_test , y_test))"
   ]
  },
  {
   "cell_type": "code",
   "execution_count": null,
   "metadata": {},
   "outputs": [],
   "source": []
  },
  {
   "cell_type": "code",
   "execution_count": 703,
   "metadata": {},
   "outputs": [
    {
     "name": "stdout",
     "output_type": "stream",
     "text": [
      "[489.78768988 489.45082325 492.73514214 ...  97.89035829  64.49978292\n",
      "  94.94290604]\n"
     ]
    }
   ],
   "source": [
    "print(y_predictRidge)"
   ]
  },
  {
   "attachments": {},
   "cell_type": "markdown",
   "metadata": {},
   "source": [
    "no hay mucha correlacion del churn score con las variables"
   ]
  },
  {
   "cell_type": "code",
   "execution_count": null,
   "metadata": {},
   "outputs": [],
   "source": []
  }
 ],
 "metadata": {
  "kernelspec": {
   "display_name": "analisis_churn",
   "language": "python",
   "name": "python3"
  },
  "language_info": {
   "codemirror_mode": {
    "name": "ipython",
    "version": 3
   },
   "file_extension": ".py",
   "mimetype": "text/x-python",
   "name": "python",
   "nbconvert_exporter": "python",
   "pygments_lexer": "ipython3",
   "version": "3.9.15"
  },
  "orig_nbformat": 4,
  "vscode": {
   "interpreter": {
    "hash": "94c9ed87a6a7550ed83cea8e0ec154a897c44c0ec4bf99cd9bf34920c19c5a0a"
   }
  }
 },
 "nbformat": 4,
 "nbformat_minor": 2
}
